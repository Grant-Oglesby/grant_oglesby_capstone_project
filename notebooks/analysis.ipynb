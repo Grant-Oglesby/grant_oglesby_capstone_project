{
 "cells": [
  {
   "cell_type": "markdown",
   "id": "51684a40",
   "metadata": {},
   "source": [
    "# Data Analysis for plotly/Streamlit"
   ]
  },
  {
   "cell_type": "code",
   "execution_count": 40,
   "id": "151f7843",
   "metadata": {},
   "outputs": [],
   "source": [
    "import pandas as pd\n",
    "import plotly.express as px"
   ]
  },
  {
   "cell_type": "code",
   "execution_count": 41,
   "id": "8cd98d78",
   "metadata": {},
   "outputs": [
    {
     "data": {
      "text/html": [
       "<div>\n",
       "<style scoped>\n",
       "    .dataframe tbody tr th:only-of-type {\n",
       "        vertical-align: middle;\n",
       "    }\n",
       "\n",
       "    .dataframe tbody tr th {\n",
       "        vertical-align: top;\n",
       "    }\n",
       "\n",
       "    .dataframe thead th {\n",
       "        text-align: right;\n",
       "    }\n",
       "</style>\n",
       "<table border=\"1\" class=\"dataframe\">\n",
       "  <thead>\n",
       "    <tr style=\"text-align: right;\">\n",
       "      <th></th>\n",
       "      <th>country</th>\n",
       "      <th>year</th>\n",
       "      <th>iso_code</th>\n",
       "      <th>population</th>\n",
       "      <th>gdp</th>\n",
       "      <th>co2</th>\n",
       "      <th>co2_per_capita</th>\n",
       "      <th>cumulative_co2</th>\n",
       "      <th>cumulative_oil_co2</th>\n",
       "      <th>oil_co2</th>\n",
       "      <th>oil_co2_per_capita</th>\n",
       "      <th>region</th>\n",
       "      <th>coal_cons_per_capita</th>\n",
       "      <th>coal_consumption</th>\n",
       "      <th>energy_per_capita</th>\n",
       "    </tr>\n",
       "  </thead>\n",
       "  <tbody>\n",
       "    <tr>\n",
       "      <th>0</th>\n",
       "      <td>Afghanistan</td>\n",
       "      <td>1994</td>\n",
       "      <td>AFG</td>\n",
       "      <td>16250799</td>\n",
       "      <td>7919856640</td>\n",
       "      <td>1.454</td>\n",
       "      <td>0.089</td>\n",
       "      <td>64.941</td>\n",
       "      <td>33.346</td>\n",
       "      <td>1.032</td>\n",
       "      <td>0.064</td>\n",
       "      <td>Asia</td>\n",
       "      <td>6114.397</td>\n",
       "      <td>1416.601</td>\n",
       "      <td>484.347</td>\n",
       "    </tr>\n",
       "    <tr>\n",
       "      <th>1</th>\n",
       "      <td>Afghanistan</td>\n",
       "      <td>1995</td>\n",
       "      <td>AFG</td>\n",
       "      <td>17065836</td>\n",
       "      <td>12307525632</td>\n",
       "      <td>1.417</td>\n",
       "      <td>0.083</td>\n",
       "      <td>66.358</td>\n",
       "      <td>34.357</td>\n",
       "      <td>1.011</td>\n",
       "      <td>0.059</td>\n",
       "      <td>Asia</td>\n",
       "      <td>6064.712</td>\n",
       "      <td>1459.240</td>\n",
       "      <td>386.491</td>\n",
       "    </tr>\n",
       "    <tr>\n",
       "      <th>2</th>\n",
       "      <td>Afghanistan</td>\n",
       "      <td>1996</td>\n",
       "      <td>AFG</td>\n",
       "      <td>17763265</td>\n",
       "      <td>12070125568</td>\n",
       "      <td>1.370</td>\n",
       "      <td>0.077</td>\n",
       "      <td>67.728</td>\n",
       "      <td>35.343</td>\n",
       "      <td>0.986</td>\n",
       "      <td>0.055</td>\n",
       "      <td>Asia</td>\n",
       "      <td>6015.026</td>\n",
       "      <td>1501.880</td>\n",
       "      <td>368.900</td>\n",
       "    </tr>\n",
       "    <tr>\n",
       "      <th>3</th>\n",
       "      <td>Afghanistan</td>\n",
       "      <td>1997</td>\n",
       "      <td>AFG</td>\n",
       "      <td>18452100</td>\n",
       "      <td>11850753024</td>\n",
       "      <td>1.304</td>\n",
       "      <td>0.071</td>\n",
       "      <td>69.032</td>\n",
       "      <td>36.292</td>\n",
       "      <td>0.949</td>\n",
       "      <td>0.051</td>\n",
       "      <td>Asia</td>\n",
       "      <td>5965.341</td>\n",
       "      <td>1544.519</td>\n",
       "      <td>341.219</td>\n",
       "    </tr>\n",
       "    <tr>\n",
       "      <th>4</th>\n",
       "      <td>Afghanistan</td>\n",
       "      <td>1998</td>\n",
       "      <td>AFG</td>\n",
       "      <td>19159996</td>\n",
       "      <td>11692171264</td>\n",
       "      <td>1.279</td>\n",
       "      <td>0.067</td>\n",
       "      <td>70.311</td>\n",
       "      <td>37.234</td>\n",
       "      <td>0.942</td>\n",
       "      <td>0.049</td>\n",
       "      <td>Asia</td>\n",
       "      <td>5915.656</td>\n",
       "      <td>1587.159</td>\n",
       "      <td>321.279</td>\n",
       "    </tr>\n",
       "    <tr>\n",
       "      <th>...</th>\n",
       "      <td>...</td>\n",
       "      <td>...</td>\n",
       "      <td>...</td>\n",
       "      <td>...</td>\n",
       "      <td>...</td>\n",
       "      <td>...</td>\n",
       "      <td>...</td>\n",
       "      <td>...</td>\n",
       "      <td>...</td>\n",
       "      <td>...</td>\n",
       "      <td>...</td>\n",
       "      <td>...</td>\n",
       "      <td>...</td>\n",
       "      <td>...</td>\n",
       "      <td>...</td>\n",
       "    </tr>\n",
       "    <tr>\n",
       "      <th>4901</th>\n",
       "      <td>Zimbabwe</td>\n",
       "      <td>2019</td>\n",
       "      <td>ZWE</td>\n",
       "      <td>15271377</td>\n",
       "      <td>25146417152</td>\n",
       "      <td>10.263</td>\n",
       "      <td>0.672</td>\n",
       "      <td>774.802</td>\n",
       "      <td>144.767</td>\n",
       "      <td>3.778</td>\n",
       "      <td>0.247</td>\n",
       "      <td>Africa</td>\n",
       "      <td>4872.263</td>\n",
       "      <td>2482.590</td>\n",
       "      <td>2603.889</td>\n",
       "    </tr>\n",
       "    <tr>\n",
       "      <th>4902</th>\n",
       "      <td>Zimbabwe</td>\n",
       "      <td>2020</td>\n",
       "      <td>ZWE</td>\n",
       "      <td>15526888</td>\n",
       "      <td>23178706944</td>\n",
       "      <td>8.495</td>\n",
       "      <td>0.547</td>\n",
       "      <td>783.296</td>\n",
       "      <td>147.830</td>\n",
       "      <td>3.063</td>\n",
       "      <td>0.197</td>\n",
       "      <td>Africa</td>\n",
       "      <td>4822.578</td>\n",
       "      <td>2525.230</td>\n",
       "      <td>2163.075</td>\n",
       "    </tr>\n",
       "    <tr>\n",
       "      <th>4903</th>\n",
       "      <td>Zimbabwe</td>\n",
       "      <td>2021</td>\n",
       "      <td>ZWE</td>\n",
       "      <td>15797220</td>\n",
       "      <td>25140088832</td>\n",
       "      <td>10.204</td>\n",
       "      <td>0.646</td>\n",
       "      <td>793.500</td>\n",
       "      <td>151.565</td>\n",
       "      <td>3.735</td>\n",
       "      <td>0.236</td>\n",
       "      <td>Africa</td>\n",
       "      <td>4772.892</td>\n",
       "      <td>2567.869</td>\n",
       "      <td>2382.443</td>\n",
       "    </tr>\n",
       "    <tr>\n",
       "      <th>4904</th>\n",
       "      <td>Zimbabwe</td>\n",
       "      <td>2022</td>\n",
       "      <td>ZWE</td>\n",
       "      <td>16069061</td>\n",
       "      <td>25901586432</td>\n",
       "      <td>10.425</td>\n",
       "      <td>0.649</td>\n",
       "      <td>803.925</td>\n",
       "      <td>154.944</td>\n",
       "      <td>3.379</td>\n",
       "      <td>0.210</td>\n",
       "      <td>Africa</td>\n",
       "      <td>4723.207</td>\n",
       "      <td>2610.509</td>\n",
       "      <td>3633.079</td>\n",
       "    </tr>\n",
       "    <tr>\n",
       "      <th>4905</th>\n",
       "      <td>Zimbabwe</td>\n",
       "      <td>2023</td>\n",
       "      <td>ZWE</td>\n",
       "      <td>16340829</td>\n",
       "      <td>23049979833</td>\n",
       "      <td>11.164</td>\n",
       "      <td>0.683</td>\n",
       "      <td>815.089</td>\n",
       "      <td>158.306</td>\n",
       "      <td>3.362</td>\n",
       "      <td>0.206</td>\n",
       "      <td>Africa</td>\n",
       "      <td>4673.521</td>\n",
       "      <td>2653.148</td>\n",
       "      <td>3181.371</td>\n",
       "    </tr>\n",
       "  </tbody>\n",
       "</table>\n",
       "<p>4906 rows × 15 columns</p>\n",
       "</div>"
      ],
      "text/plain": [
       "          country  year iso_code  population          gdp     co2  \\\n",
       "0     Afghanistan  1994      AFG    16250799   7919856640   1.454   \n",
       "1     Afghanistan  1995      AFG    17065836  12307525632   1.417   \n",
       "2     Afghanistan  1996      AFG    17763265  12070125568   1.370   \n",
       "3     Afghanistan  1997      AFG    18452100  11850753024   1.304   \n",
       "4     Afghanistan  1998      AFG    19159996  11692171264   1.279   \n",
       "...           ...   ...      ...         ...          ...     ...   \n",
       "4901     Zimbabwe  2019      ZWE    15271377  25146417152  10.263   \n",
       "4902     Zimbabwe  2020      ZWE    15526888  23178706944   8.495   \n",
       "4903     Zimbabwe  2021      ZWE    15797220  25140088832  10.204   \n",
       "4904     Zimbabwe  2022      ZWE    16069061  25901586432  10.425   \n",
       "4905     Zimbabwe  2023      ZWE    16340829  23049979833  11.164   \n",
       "\n",
       "      co2_per_capita  cumulative_co2  cumulative_oil_co2  oil_co2  \\\n",
       "0              0.089          64.941              33.346    1.032   \n",
       "1              0.083          66.358              34.357    1.011   \n",
       "2              0.077          67.728              35.343    0.986   \n",
       "3              0.071          69.032              36.292    0.949   \n",
       "4              0.067          70.311              37.234    0.942   \n",
       "...              ...             ...                 ...      ...   \n",
       "4901           0.672         774.802             144.767    3.778   \n",
       "4902           0.547         783.296             147.830    3.063   \n",
       "4903           0.646         793.500             151.565    3.735   \n",
       "4904           0.649         803.925             154.944    3.379   \n",
       "4905           0.683         815.089             158.306    3.362   \n",
       "\n",
       "      oil_co2_per_capita  region  coal_cons_per_capita  coal_consumption  \\\n",
       "0                  0.064    Asia              6114.397          1416.601   \n",
       "1                  0.059    Asia              6064.712          1459.240   \n",
       "2                  0.055    Asia              6015.026          1501.880   \n",
       "3                  0.051    Asia              5965.341          1544.519   \n",
       "4                  0.049    Asia              5915.656          1587.159   \n",
       "...                  ...     ...                   ...               ...   \n",
       "4901               0.247  Africa              4872.263          2482.590   \n",
       "4902               0.197  Africa              4822.578          2525.230   \n",
       "4903               0.236  Africa              4772.892          2567.869   \n",
       "4904               0.210  Africa              4723.207          2610.509   \n",
       "4905               0.206  Africa              4673.521          2653.148   \n",
       "\n",
       "      energy_per_capita  \n",
       "0               484.347  \n",
       "1               386.491  \n",
       "2               368.900  \n",
       "3               341.219  \n",
       "4               321.279  \n",
       "...                 ...  \n",
       "4901           2603.889  \n",
       "4902           2163.075  \n",
       "4903           2382.443  \n",
       "4904           3633.079  \n",
       "4905           3181.371  \n",
       "\n",
       "[4906 rows x 15 columns]"
      ]
     },
     "execution_count": 41,
     "metadata": {},
     "output_type": "execute_result"
    }
   ],
   "source": [
    "# Import dataframe\n",
    "df = pd.read_csv(\"../data/load/go_capstone_data.csv\")\n",
    "df"
   ]
  },
  {
   "cell_type": "code",
   "execution_count": 42,
   "id": "4c640a7b",
   "metadata": {},
   "outputs": [
    {
     "data": {
      "text/plain": [
       "region\n",
       "Africa           [Algeria, Angola, Benin, Botswana, Burkina Fas...\n",
       "Asia             [Afghanistan, Armenia, Azerbaijan, Bahrain, Ba...\n",
       "Europe           [Albania, Austria, Belarus, Belgium, Bosnia an...\n",
       "North America    [Barbados, Canada, Costa Rica, Cuba, Dominica,...\n",
       "Oceania                                   [Australia, New Zealand]\n",
       "Other                                      [Cape Verde, Hong Kong]\n",
       "South America    [Argentina, Bolivia, Brazil, Chile, Colombia, ...\n",
       "Name: country, dtype: object"
      ]
     },
     "execution_count": 42,
     "metadata": {},
     "output_type": "execute_result"
    }
   ],
   "source": [
    "# df_regions_mean: grouped by region and year with aggregate set as mean\n",
    "df_regions_mean = df.groupby(['region', 'year'], as_index=False).mean(numeric_only=True)\n",
    "\n",
    "# df_regions_sum: grouped by region and year with aggregate set as sum\n",
    "df_regions_sum = df.groupby(['region', 'year'], as_index=False).sum(numeric_only=True)\n",
    "\n",
    "# df_regions_median: grouped by region and year with aggregate set as median\n",
    "df_regions_median = df.groupby(['region', 'year'], as_index=False).median(numeric_only=True)\n",
    "\n",
    "# df_regions_mode: grouped by region and year with aggregate set as mode\n",
    "df_regions_mode = df.groupby(['region', 'year'], as_index=False).agg(lambda x: x.mode().iloc[0] if not x.mode().empty else pd.NA)\n",
    "\n",
    "# df_regions_stddev: grouped by region and year with aggregate set as standard deviation\n",
    "df_regions_stddev = df.groupby(['region', 'year'], as_index=False).std(numeric_only=True)\n",
    "\n",
    "# df_regions_min: grouped by region and year with aggregate set as minimum\n",
    "df_regions_min = df.groupby(['region', 'year'], as_index=False).min(numeric_only=True)\n",
    "\n",
    "# df_regions_max: grouped by region and year with aggregate set as maximum\n",
    "df_regions_max = df.groupby(['region', 'year'], as_index=False).max(numeric_only=True)\n",
    "\n",
    "# list of each df_regions\n",
    "df_regions = [\n",
    "    df_regions_mean,\n",
    "    df_regions_sum,\n",
    "    df_regions_median,\n",
    "    df_regions_mode,\n",
    "    df_regions_stddev,\n",
    "    df_regions_min,\n",
    "    df_regions_max\n",
    "]\n",
    "\n",
    "# list of countries in each region\n",
    "region_countries = df.groupby('region')['country'].unique()\n",
    "region_countries"
   ]
  },
  {
   "cell_type": "code",
   "execution_count": 43,
   "id": "938d141d",
   "metadata": {},
   "outputs": [
    {
     "data": {
      "application/vnd.plotly.v1+json": {
       "config": {
        "plotlyServerURL": "https://plot.ly"
       },
       "data": [
        {
         "hovertemplate": "region=Africa<br>Year=%{x}<br>CO2 Emissions per Capita=%{y}<extra></extra>",
         "legendgroup": "Africa",
         "line": {
          "color": "#636efa",
          "dash": "solid"
         },
         "marker": {
          "symbol": "circle"
         },
         "mode": "lines",
         "name": "Africa",
         "orientation": "v",
         "showlegend": true,
         "type": "scatter",
         "x": {
          "bdata": "ygfLB8wHzQfOB88H0AfRB9IH0wfUB9UH1gfXB9gH2QfaB9sH3AfdB94H3wfgB+EH4gfjB+QH5QfmB+cH",
          "dtype": "i2"
         },
         "xaxis": "x",
         "y": {
          "bdata": "UkyWRBOf8D9FZY3NsjLxP7C1eSDzg/E/RUprvfzF8T/S04QuY0fyPx81DVQZ6vE/PkGj9l8o8j8AUWYwIkbyP0U8FhzghvE/4g8UoPI/8j/HFnubWJjzP4I4mB40hfM/FEE3bh9Q8z9DR9Mlc5HyPyL1k1ydF/M/LejhDxSg8j9b7G1iYb7zP+EOjG1vLvM/ztupoGwd9D9q8TCBAczzP+5G+xTy4PQ/Y+houmQu9D8/ydV5cVn0P03a3dQng/Q/f7sipbVe9D/njyGx+pr0PwHmZSLNpPE/482KQ3BK8z8siJ4LUgnzP79B548hsfI/",
          "dtype": "f8"
         },
         "yaxis": "y"
        },
        {
         "hovertemplate": "region=Asia<br>Year=%{x}<br>CO2 Emissions per Capita=%{y}<extra></extra>",
         "legendgroup": "Asia",
         "line": {
          "color": "#EF553B",
          "dash": "solid"
         },
         "marker": {
          "symbol": "circle"
         },
         "mode": "lines",
         "name": "Asia",
         "orientation": "v",
         "showlegend": true,
         "type": "scatter",
         "x": {
          "bdata": "ygfLB8wHzQfOB88H0AfRB9IH0wfUB9UH1gfXB9gH2QfaB9sH3AfdB94H3wfgB+EH4gfjB+QH5QfmB+cH",
          "dtype": "i2"
         },
         "xaxis": "x",
         "y": {
          "bdata": "x25z7DYnHUBRET1IBBccQBHB7d2o6xtABjmzDuVPHEDkzDqUP6MaQFXm01CQRRpAuddcSJrSG0BUdd4o7scbQIuREqjr9hpAts+MuiUbHEBaPlahH1EcQGFWxkp9dxxAAG+BBMUPHUCzxUgJ1PUbQLNVDXMgLxxAYcIZmnZiG0CiI7n8h3QcQH2Ji7Y91BxAb6V13+L/HUCitfGJsZscQArVL01gnBtA4qJtD1WLG0BRs3ysQj8bQA3h5yGPrxtASXUnxbTcG0BiDuQV11ocQAC511xIGhtAgZb9HFueG0As1VR4DF4bQJsuANyOZRtA",
          "dtype": "f8"
         },
         "yaxis": "y"
        },
        {
         "hovertemplate": "region=Europe<br>Year=%{x}<br>CO2 Emissions per Capita=%{y}<extra></extra>",
         "legendgroup": "Europe",
         "line": {
          "color": "#00cc96",
          "dash": "solid"
         },
         "marker": {
          "symbol": "circle"
         },
         "mode": "lines",
         "name": "Europe",
         "orientation": "v",
         "showlegend": true,
         "type": "scatter",
         "x": {
          "bdata": "ygfLB8wHzQfOB88H0AfRB9IH0wfUB9UH1gfXB9gH2QfaB9sH3AfdB94H3wfgB+EH4gfjB+QH5QfmB+cH",
          "dtype": "i2"
         },
         "xaxis": "x",
         "y": {
          "bdata": "aVA6hXQhIEDCraxSd2sfQH+OenkfRCBAxURud/S8H0D+whnnYFsfQKM6IAOFoh5AXkN5DeW1HkDjkzzCWpofQKwuuWYBtR9ARaSU+w5jIEAv74MIR4sgQPTPmCYDDCBAmPmtjSJKIEC5kgLNQEogQKeYD+Wi5h9AQDOQkusuHUCN3a+hi3ceQPlpGrtfwx1ADxWtYM3LHEAmev52Mh0cQGby6IR31BpAxR/JXrliGkDDIn6axm4aQCGvi1TivhpAjVEtg3qJGkBTzlWar1AZQMeReBhKFxdAQjDbVt4iGEBgcVNB7GcXQKcleRdjAxZA",
          "dtype": "f8"
         },
         "yaxis": "y"
        },
        {
         "hovertemplate": "region=North America<br>Year=%{x}<br>CO2 Emissions per Capita=%{y}<extra></extra>",
         "legendgroup": "North America",
         "line": {
          "color": "#ab63fa",
          "dash": "solid"
         },
         "marker": {
          "symbol": "circle"
         },
         "mode": "lines",
         "name": "North America",
         "orientation": "v",
         "showlegend": true,
         "type": "scatter",
         "x": {
          "bdata": "ygfLB8wHzQfOB88H0AfRB9IH0wfUB9UH1gfXB9gH2QfaB9sH3AfdB94H3wfgB+EH4gfjB+QH5QfmB+cH",
          "dtype": "i2"
         },
         "xaxis": "x",
         "y": {
          "bdata": "lWsPgL3HEECTQIhp5PgQQNxgTJ5W9RFAvi5sdk1xEkDf3t7e3t4SQEkgxDRyfBNAInQsS9A7FECWyPsuYpUUQAYuihnc0RRAljmq5/HIFUBco4T/E8IVQLgehetRuBZAV2E43EyKF0DkpZvEIDAYQNhTaBZevxdAM7ij9a3MFkAm/J8QTlgXQInG0KdLPBdACXq3wZi8FkBeukkMAqsWQKVSmnv2ihZACEVPJso6FkDxdWGzawoVQF6mhwIXxRRAK2lzSu7eFECGPl3izR8VQHS7nBcsWhJA4lxxH2dIE0C/i1gl8j4TQAmOecuDIhNA",
          "dtype": "f8"
         },
         "yaxis": "y"
        },
        {
         "hovertemplate": "region=Oceania<br>Year=%{x}<br>CO2 Emissions per Capita=%{y}<extra></extra>",
         "legendgroup": "Oceania",
         "line": {
          "color": "#FFA15A",
          "dash": "solid"
         },
         "marker": {
          "symbol": "circle"
         },
         "mode": "lines",
         "name": "Oceania",
         "orientation": "v",
         "showlegend": true,
         "type": "scatter",
         "x": {
          "bdata": "ygfLB8wHzQfOB88H0AfRB9IH0wfUB9UH1gfXB9gH2QfaB9sH3AfdB94H3wfgB+EH4gfjB+QH5QfmB+cH",
          "dtype": "i2"
         },
         "xaxis": "x",
         "y": {
          "bdata": "d76fGi8dKEDufD81XnooQNnO91Pj5ShAnu+nxkuXKUA0MzMzM7MpQGq8dJMYZCpA9P3UeOmmKkDJdr6fGk8rQJLtfD81PitAKFyPwvWoK0AW2c73U+MrQBSuR+F6FCxAQmDl0CL7K0CQwvUoXK8rQB6F61G4vitACKwcWmS7KkAhsHJokU0qQJzEILByyClAeOkmMQjsKUC8dJMYBBYpQO18PzVeeihAoBov3SSGKEBcj8L1KBwoQNnO91PjJShATmIQWDnUJ0AgsHJoka0nQGQ730+NNyZAokW28/20JUAUrkfhetQkQJQYBFYOTSRA",
          "dtype": "f8"
         },
         "yaxis": "y"
        },
        {
         "hovertemplate": "region=Other<br>Year=%{x}<br>CO2 Emissions per Capita=%{y}<extra></extra>",
         "legendgroup": "Other",
         "line": {
          "color": "#19d3f3",
          "dash": "solid"
         },
         "marker": {
          "symbol": "circle"
         },
         "mode": "lines",
         "name": "Other",
         "orientation": "v",
         "showlegend": true,
         "type": "scatter",
         "x": {
          "bdata": "ygfLB8wHzQfOB88H0AfRB9IH0wfUB9UH1gfXB9gH2QfaB9sH3AfdB94H3wfgB+EH4gfjB+QH5QfmB+cH",
          "dtype": "i2"
         },
         "xaxis": "x",
         "y": {
          "bdata": "mG4Sg8BKBkCkcD0K1yMGQOF6FK5HYQRA6iYxCKwcBUD6fmq8dBMKQDeJQWDlUAxA9P3UeOmmCkDy0k1iEFgJQNEi2/l+agpAGQRWDi2yDEDkpZvEILALQBsv3SQGAQ1AuB6F61E4DED6fmq8dBMNQB6F61G4HgxADi2yne+nC0A830+Nl+4KQHsUrkfh+gxARIts5/upC0DD9Shcj0IMQEOLbOf7qQxAQmDl0CLbCkBkO99PjZcLQGIQWDm0SAtAwvUoXI9CC0CYbhKDwEoLQIKVQ4ts5wVAcmiR7Xw/BkBEi2zn+ykFQM3MzMzMTAZA",
          "dtype": "f8"
         },
         "yaxis": "y"
        },
        {
         "hovertemplate": "region=South America<br>Year=%{x}<br>CO2 Emissions per Capita=%{y}<extra></extra>",
         "legendgroup": "South America",
         "line": {
          "color": "#FF6692",
          "dash": "solid"
         },
         "marker": {
          "symbol": "circle"
         },
         "mode": "lines",
         "name": "South America",
         "orientation": "v",
         "showlegend": true,
         "type": "scatter",
         "x": {
          "bdata": "ygfLB8wHzQfOB88H0AfRB9IH0wfUB9UH1gfXB9gH2QfaB9sH3AfdB94H3wfgB+EH4gfjB+QH5QfmB+cH",
          "dtype": "i2"
         },
         "xaxis": "x",
         "y": {
          "bdata": "7MA5I0p7AEB1JJf/kH4BQBBYObTI9gFAZohjXdzGAkD+ZffkYSEDQOY/pN++jgNAWKg1zTtOAkASg8DKoUUBQARWDi2yHQJAQj7o2az6AUASNjy9UpYCQDbNO07REQNAGJXUCWiiA0DVeOkmMQgEQKs+V1uxvwRA8tJNYhBYBECiRbbz/dQFQA5Pr5RlCAZATmIQWDm0BkC7lpAPejYHQHJoke18vwZAIbByaJFtBkDUmuYdp+gFQOELk6mCUQVAWYY41sVtBEB88rBQa5oEQI7k8h/S7wFAImx4eqWsA0AmUwWjkjoEQCGwcmiRbQRA",
          "dtype": "f8"
         },
         "yaxis": "y"
        }
       ],
       "layout": {
        "legend": {
         "title": {
          "text": "region"
         },
         "tracegroupgap": 0
        },
        "template": {
         "data": {
          "bar": [
           {
            "error_x": {
             "color": "#2a3f5f"
            },
            "error_y": {
             "color": "#2a3f5f"
            },
            "marker": {
             "line": {
              "color": "#E5ECF6",
              "width": 0.5
             },
             "pattern": {
              "fillmode": "overlay",
              "size": 10,
              "solidity": 0.2
             }
            },
            "type": "bar"
           }
          ],
          "barpolar": [
           {
            "marker": {
             "line": {
              "color": "#E5ECF6",
              "width": 0.5
             },
             "pattern": {
              "fillmode": "overlay",
              "size": 10,
              "solidity": 0.2
             }
            },
            "type": "barpolar"
           }
          ],
          "carpet": [
           {
            "aaxis": {
             "endlinecolor": "#2a3f5f",
             "gridcolor": "white",
             "linecolor": "white",
             "minorgridcolor": "white",
             "startlinecolor": "#2a3f5f"
            },
            "baxis": {
             "endlinecolor": "#2a3f5f",
             "gridcolor": "white",
             "linecolor": "white",
             "minorgridcolor": "white",
             "startlinecolor": "#2a3f5f"
            },
            "type": "carpet"
           }
          ],
          "choropleth": [
           {
            "colorbar": {
             "outlinewidth": 0,
             "ticks": ""
            },
            "type": "choropleth"
           }
          ],
          "contour": [
           {
            "colorbar": {
             "outlinewidth": 0,
             "ticks": ""
            },
            "colorscale": [
             [
              0,
              "#0d0887"
             ],
             [
              0.1111111111111111,
              "#46039f"
             ],
             [
              0.2222222222222222,
              "#7201a8"
             ],
             [
              0.3333333333333333,
              "#9c179e"
             ],
             [
              0.4444444444444444,
              "#bd3786"
             ],
             [
              0.5555555555555556,
              "#d8576b"
             ],
             [
              0.6666666666666666,
              "#ed7953"
             ],
             [
              0.7777777777777778,
              "#fb9f3a"
             ],
             [
              0.8888888888888888,
              "#fdca26"
             ],
             [
              1,
              "#f0f921"
             ]
            ],
            "type": "contour"
           }
          ],
          "contourcarpet": [
           {
            "colorbar": {
             "outlinewidth": 0,
             "ticks": ""
            },
            "type": "contourcarpet"
           }
          ],
          "heatmap": [
           {
            "colorbar": {
             "outlinewidth": 0,
             "ticks": ""
            },
            "colorscale": [
             [
              0,
              "#0d0887"
             ],
             [
              0.1111111111111111,
              "#46039f"
             ],
             [
              0.2222222222222222,
              "#7201a8"
             ],
             [
              0.3333333333333333,
              "#9c179e"
             ],
             [
              0.4444444444444444,
              "#bd3786"
             ],
             [
              0.5555555555555556,
              "#d8576b"
             ],
             [
              0.6666666666666666,
              "#ed7953"
             ],
             [
              0.7777777777777778,
              "#fb9f3a"
             ],
             [
              0.8888888888888888,
              "#fdca26"
             ],
             [
              1,
              "#f0f921"
             ]
            ],
            "type": "heatmap"
           }
          ],
          "histogram": [
           {
            "marker": {
             "pattern": {
              "fillmode": "overlay",
              "size": 10,
              "solidity": 0.2
             }
            },
            "type": "histogram"
           }
          ],
          "histogram2d": [
           {
            "colorbar": {
             "outlinewidth": 0,
             "ticks": ""
            },
            "colorscale": [
             [
              0,
              "#0d0887"
             ],
             [
              0.1111111111111111,
              "#46039f"
             ],
             [
              0.2222222222222222,
              "#7201a8"
             ],
             [
              0.3333333333333333,
              "#9c179e"
             ],
             [
              0.4444444444444444,
              "#bd3786"
             ],
             [
              0.5555555555555556,
              "#d8576b"
             ],
             [
              0.6666666666666666,
              "#ed7953"
             ],
             [
              0.7777777777777778,
              "#fb9f3a"
             ],
             [
              0.8888888888888888,
              "#fdca26"
             ],
             [
              1,
              "#f0f921"
             ]
            ],
            "type": "histogram2d"
           }
          ],
          "histogram2dcontour": [
           {
            "colorbar": {
             "outlinewidth": 0,
             "ticks": ""
            },
            "colorscale": [
             [
              0,
              "#0d0887"
             ],
             [
              0.1111111111111111,
              "#46039f"
             ],
             [
              0.2222222222222222,
              "#7201a8"
             ],
             [
              0.3333333333333333,
              "#9c179e"
             ],
             [
              0.4444444444444444,
              "#bd3786"
             ],
             [
              0.5555555555555556,
              "#d8576b"
             ],
             [
              0.6666666666666666,
              "#ed7953"
             ],
             [
              0.7777777777777778,
              "#fb9f3a"
             ],
             [
              0.8888888888888888,
              "#fdca26"
             ],
             [
              1,
              "#f0f921"
             ]
            ],
            "type": "histogram2dcontour"
           }
          ],
          "mesh3d": [
           {
            "colorbar": {
             "outlinewidth": 0,
             "ticks": ""
            },
            "type": "mesh3d"
           }
          ],
          "parcoords": [
           {
            "line": {
             "colorbar": {
              "outlinewidth": 0,
              "ticks": ""
             }
            },
            "type": "parcoords"
           }
          ],
          "pie": [
           {
            "automargin": true,
            "type": "pie"
           }
          ],
          "scatter": [
           {
            "fillpattern": {
             "fillmode": "overlay",
             "size": 10,
             "solidity": 0.2
            },
            "type": "scatter"
           }
          ],
          "scatter3d": [
           {
            "line": {
             "colorbar": {
              "outlinewidth": 0,
              "ticks": ""
             }
            },
            "marker": {
             "colorbar": {
              "outlinewidth": 0,
              "ticks": ""
             }
            },
            "type": "scatter3d"
           }
          ],
          "scattercarpet": [
           {
            "marker": {
             "colorbar": {
              "outlinewidth": 0,
              "ticks": ""
             }
            },
            "type": "scattercarpet"
           }
          ],
          "scattergeo": [
           {
            "marker": {
             "colorbar": {
              "outlinewidth": 0,
              "ticks": ""
             }
            },
            "type": "scattergeo"
           }
          ],
          "scattergl": [
           {
            "marker": {
             "colorbar": {
              "outlinewidth": 0,
              "ticks": ""
             }
            },
            "type": "scattergl"
           }
          ],
          "scattermap": [
           {
            "marker": {
             "colorbar": {
              "outlinewidth": 0,
              "ticks": ""
             }
            },
            "type": "scattermap"
           }
          ],
          "scattermapbox": [
           {
            "marker": {
             "colorbar": {
              "outlinewidth": 0,
              "ticks": ""
             }
            },
            "type": "scattermapbox"
           }
          ],
          "scatterpolar": [
           {
            "marker": {
             "colorbar": {
              "outlinewidth": 0,
              "ticks": ""
             }
            },
            "type": "scatterpolar"
           }
          ],
          "scatterpolargl": [
           {
            "marker": {
             "colorbar": {
              "outlinewidth": 0,
              "ticks": ""
             }
            },
            "type": "scatterpolargl"
           }
          ],
          "scatterternary": [
           {
            "marker": {
             "colorbar": {
              "outlinewidth": 0,
              "ticks": ""
             }
            },
            "type": "scatterternary"
           }
          ],
          "surface": [
           {
            "colorbar": {
             "outlinewidth": 0,
             "ticks": ""
            },
            "colorscale": [
             [
              0,
              "#0d0887"
             ],
             [
              0.1111111111111111,
              "#46039f"
             ],
             [
              0.2222222222222222,
              "#7201a8"
             ],
             [
              0.3333333333333333,
              "#9c179e"
             ],
             [
              0.4444444444444444,
              "#bd3786"
             ],
             [
              0.5555555555555556,
              "#d8576b"
             ],
             [
              0.6666666666666666,
              "#ed7953"
             ],
             [
              0.7777777777777778,
              "#fb9f3a"
             ],
             [
              0.8888888888888888,
              "#fdca26"
             ],
             [
              1,
              "#f0f921"
             ]
            ],
            "type": "surface"
           }
          ],
          "table": [
           {
            "cells": {
             "fill": {
              "color": "#EBF0F8"
             },
             "line": {
              "color": "white"
             }
            },
            "header": {
             "fill": {
              "color": "#C8D4E3"
             },
             "line": {
              "color": "white"
             }
            },
            "type": "table"
           }
          ]
         },
         "layout": {
          "annotationdefaults": {
           "arrowcolor": "#2a3f5f",
           "arrowhead": 0,
           "arrowwidth": 1
          },
          "autotypenumbers": "strict",
          "coloraxis": {
           "colorbar": {
            "outlinewidth": 0,
            "ticks": ""
           }
          },
          "colorscale": {
           "diverging": [
            [
             0,
             "#8e0152"
            ],
            [
             0.1,
             "#c51b7d"
            ],
            [
             0.2,
             "#de77ae"
            ],
            [
             0.3,
             "#f1b6da"
            ],
            [
             0.4,
             "#fde0ef"
            ],
            [
             0.5,
             "#f7f7f7"
            ],
            [
             0.6,
             "#e6f5d0"
            ],
            [
             0.7,
             "#b8e186"
            ],
            [
             0.8,
             "#7fbc41"
            ],
            [
             0.9,
             "#4d9221"
            ],
            [
             1,
             "#276419"
            ]
           ],
           "sequential": [
            [
             0,
             "#0d0887"
            ],
            [
             0.1111111111111111,
             "#46039f"
            ],
            [
             0.2222222222222222,
             "#7201a8"
            ],
            [
             0.3333333333333333,
             "#9c179e"
            ],
            [
             0.4444444444444444,
             "#bd3786"
            ],
            [
             0.5555555555555556,
             "#d8576b"
            ],
            [
             0.6666666666666666,
             "#ed7953"
            ],
            [
             0.7777777777777778,
             "#fb9f3a"
            ],
            [
             0.8888888888888888,
             "#fdca26"
            ],
            [
             1,
             "#f0f921"
            ]
           ],
           "sequentialminus": [
            [
             0,
             "#0d0887"
            ],
            [
             0.1111111111111111,
             "#46039f"
            ],
            [
             0.2222222222222222,
             "#7201a8"
            ],
            [
             0.3333333333333333,
             "#9c179e"
            ],
            [
             0.4444444444444444,
             "#bd3786"
            ],
            [
             0.5555555555555556,
             "#d8576b"
            ],
            [
             0.6666666666666666,
             "#ed7953"
            ],
            [
             0.7777777777777778,
             "#fb9f3a"
            ],
            [
             0.8888888888888888,
             "#fdca26"
            ],
            [
             1,
             "#f0f921"
            ]
           ]
          },
          "colorway": [
           "#636efa",
           "#EF553B",
           "#00cc96",
           "#ab63fa",
           "#FFA15A",
           "#19d3f3",
           "#FF6692",
           "#B6E880",
           "#FF97FF",
           "#FECB52"
          ],
          "font": {
           "color": "#2a3f5f"
          },
          "geo": {
           "bgcolor": "white",
           "lakecolor": "white",
           "landcolor": "#E5ECF6",
           "showlakes": true,
           "showland": true,
           "subunitcolor": "white"
          },
          "hoverlabel": {
           "align": "left"
          },
          "hovermode": "closest",
          "mapbox": {
           "style": "light"
          },
          "paper_bgcolor": "white",
          "plot_bgcolor": "#E5ECF6",
          "polar": {
           "angularaxis": {
            "gridcolor": "white",
            "linecolor": "white",
            "ticks": ""
           },
           "bgcolor": "#E5ECF6",
           "radialaxis": {
            "gridcolor": "white",
            "linecolor": "white",
            "ticks": ""
           }
          },
          "scene": {
           "xaxis": {
            "backgroundcolor": "#E5ECF6",
            "gridcolor": "white",
            "gridwidth": 2,
            "linecolor": "white",
            "showbackground": true,
            "ticks": "",
            "zerolinecolor": "white"
           },
           "yaxis": {
            "backgroundcolor": "#E5ECF6",
            "gridcolor": "white",
            "gridwidth": 2,
            "linecolor": "white",
            "showbackground": true,
            "ticks": "",
            "zerolinecolor": "white"
           },
           "zaxis": {
            "backgroundcolor": "#E5ECF6",
            "gridcolor": "white",
            "gridwidth": 2,
            "linecolor": "white",
            "showbackground": true,
            "ticks": "",
            "zerolinecolor": "white"
           }
          },
          "shapedefaults": {
           "line": {
            "color": "#2a3f5f"
           }
          },
          "ternary": {
           "aaxis": {
            "gridcolor": "white",
            "linecolor": "white",
            "ticks": ""
           },
           "baxis": {
            "gridcolor": "white",
            "linecolor": "white",
            "ticks": ""
           },
           "bgcolor": "#E5ECF6",
           "caxis": {
            "gridcolor": "white",
            "linecolor": "white",
            "ticks": ""
           }
          },
          "title": {
           "x": 0.05
          },
          "xaxis": {
           "automargin": true,
           "gridcolor": "white",
           "linecolor": "white",
           "ticks": "",
           "title": {
            "standoff": 15
           },
           "zerolinecolor": "white",
           "zerolinewidth": 2
          },
          "yaxis": {
           "automargin": true,
           "gridcolor": "white",
           "linecolor": "white",
           "ticks": "",
           "title": {
            "standoff": 15
           },
           "zerolinecolor": "white",
           "zerolinewidth": 2
          }
         }
        },
        "title": {
         "text": "CO2 Emissions per Capita Over Time"
        },
        "xaxis": {
         "anchor": "y",
         "domain": [
          0,
          1
         ],
         "title": {
          "text": "Year"
         }
        },
        "yaxis": {
         "anchor": "x",
         "domain": [
          0,
          1
         ],
         "title": {
          "text": "CO2 Emissions per Capita"
         }
        }
       }
      }
     },
     "metadata": {},
     "output_type": "display_data"
    },
    {
     "data": {
      "application/vnd.plotly.v1+json": {
       "config": {
        "plotlyServerURL": "https://plot.ly"
       },
       "data": [
        {
         "hovertemplate": "region=Africa<br>Year=%{x}<br>CO2 Emissions per Capita=%{y}<extra></extra>",
         "legendgroup": "Africa",
         "line": {
          "color": "#636efa",
          "dash": "solid"
         },
         "marker": {
          "symbol": "circle"
         },
         "mode": "lines",
         "name": "Africa",
         "orientation": "v",
         "showlegend": true,
         "type": "scatter",
         "x": {
          "bdata": "ygfLB8wHzQfOB88H0AfRB9IH0wfUB9UH1gfXB9gH2QfaB9sH3AfdB94H3wfgB+EH4gfjB+QH5QfmB+cH",
          "dtype": "i2"
         },
         "xaxis": "x",
         "y": {
          "bdata": "3SQGgZVzSUASg8DKoVVKQDVeukkM0kpAukkMAis3S0BaZDvfT/1LQFg5tMh2bktA5/up8dLNS0AIrBxaZPtLQEoMAiuH1kpAUrgehevxS0DhehSuRwFOQIcW2c73401AppvEILCSTUAfhetRuG5MQFyPwvUoPE1AhetRuB6FTEDsUbgehTtOQMl2vp8aX01AlBgEVg7NTkCq8dJNYlBOQJzEILBy+E9A16NwPQrnTkApXI/C9ShPQEa28/3UaE9AGy/dJAYxT0BaZDvfT41PQDEIrBxaBEtAQ4ts5/uJTUCDwMqhRSZNQKwcWmQ7n0xA",
          "dtype": "f8"
         },
         "yaxis": "y"
        },
        {
         "hovertemplate": "region=Asia<br>Year=%{x}<br>CO2 Emissions per Capita=%{y}<extra></extra>",
         "legendgroup": "Asia",
         "line": {
          "color": "#EF553B",
          "dash": "solid"
         },
         "marker": {
          "symbol": "circle"
         },
         "mode": "lines",
         "name": "Asia",
         "orientation": "v",
         "showlegend": true,
         "type": "scatter",
         "x": {
          "bdata": "ygfLB8wHzQfOB88H0AfRB9IH0wfUB9UH1gfXB9gH2QfaB9sH3AfdB94H3wfgB+EH4gfjB+QH5QfmB+cH",
          "dtype": "i2"
         },
         "xaxis": "x",
         "y": {
          "bdata": "KVyPwvUKdEDo+6nx0k9zQLx0kxgEMnNAGARWDi3oc0AQWDm0yLpyQPT91HjpeHJArkfhehSQc0B/arx0k4hzQFYOLbKd9XJADAIrhxbDc0DXo3A9CulzQLx0kxgEBHRADAIrhxZvdEACK4cW2ahzQEJg5dAi0XNArBxaZDtBc0AOLbKd7wF0QKwcWmQ7RXRAUrgehesXdUC28/3UeB10QMuhRbbzaXNAhxbZzvddc0AVrkfheihzQD0K16Nwd3NAd76fGi+Xc0AdWmQ73+9zQBSuR+F6DnNA001iEFhrc0DjpZvEID5zQMUgsHJoQ3NA",
          "dtype": "f8"
         },
         "yaxis": "y"
        },
        {
         "hovertemplate": "region=Europe<br>Year=%{x}<br>CO2 Emissions per Capita=%{y}<extra></extra>",
         "legendgroup": "Europe",
         "line": {
          "color": "#00cc96",
          "dash": "solid"
         },
         "marker": {
          "symbol": "circle"
         },
         "mode": "lines",
         "name": "Europe",
         "orientation": "v",
         "showlegend": true,
         "type": "scatter",
         "x": {
          "bdata": "ygfLB8wHzQfOB88H0AfRB9IH0wfUB9UH1gfXB9gH2QfaB9sH3AfdB94H3wfgB+EH4gfjB+QH5QfmB+cH",
          "dtype": "i2"
         },
         "xaxis": "x",
         "y": {
          "bdata": "fT81Xronc0ArhxbZzqdyQDeJQWDlUHNA1XjpJjHYckDHSzeJQZ5yQNEi2/l+MHJAAAAAAAA8ckDP91PjpcNyQLbz/dR403JAEoPAyqF1c0AIrBxaZKVzQHE9CtejjnNAMQisHFrac0DRItv5ftpzQAaBlUOLcHNAO99PjZfIcUACK4cW2ZByQJQYBFYOI3JA1XjpJjGMcUBvEoPAyiFxQLbz/dR4WXBAXI/C9SgUcEAv3SQGgRtwQLgehetRTHBAsp3vp8YrcEB1kxgEVtpuQKrx0k1iJGxA0SLb+X5qbUAtsp3vp4ZsQOOlm8Qg1GpA",
          "dtype": "f8"
         },
         "yaxis": "y"
        },
        {
         "hovertemplate": "region=North America<br>Year=%{x}<br>CO2 Emissions per Capita=%{y}<extra></extra>",
         "legendgroup": "North America",
         "line": {
          "color": "#ab63fa",
          "dash": "solid"
         },
         "marker": {
          "symbol": "circle"
         },
         "mode": "lines",
         "name": "North America",
         "orientation": "v",
         "showlegend": true,
         "type": "scatter",
         "x": {
          "bdata": "ygfLB8wHzQfOB88H0AfRB9IH0wfUB9UH1gfXB9gH2QfaB9sH3AfdB94H3wfgB+EH4gfjB+QH5QfmB+cH",
          "dtype": "i2"
         },
         "xaxis": "x",
         "y": {
          "bdata": "TmIQWDnUUUCcxCCwcghSQOomMQisFFNAqvHSTWKYU0DNzMzMzAxUQE5iEFg5tFRAZDvfT41/VUAfhetRuN5VQObQItv5HlZAL90kBoElV0CS7Xw/NR5XQKRwPQrXI1hAbOf7qfECWUBCYOXQIrNZQBbZzvdTO1lAtvP91Hg5WEDo+6nx0s1YQPLSTWIQsFhAqvHSTWIoWEAEVg4tshVYQM/3U+Ol81dAWDm0yHaeV0BQjZduEltWQMQgsHJoEVZAvp8aL90sVkBuEoPAynFWQCuHFtnOf1NAsHJoke18VEB7FK5H4XJUQOomMQisVFRA",
          "dtype": "f8"
         },
         "yaxis": "y"
        },
        {
         "hovertemplate": "region=Oceania<br>Year=%{x}<br>CO2 Emissions per Capita=%{y}<extra></extra>",
         "legendgroup": "Oceania",
         "line": {
          "color": "#FFA15A",
          "dash": "solid"
         },
         "marker": {
          "symbol": "circle"
         },
         "mode": "lines",
         "name": "Oceania",
         "orientation": "v",
         "showlegend": true,
         "type": "scatter",
         "x": {
          "bdata": "ygfLB8wHzQfOB88H0AfRB9IH0wfUB9UH1gfXB9gH2QfaB9sH3AfdB94H3wfgB+EH4gfjB+QH5QfmB+cH",
          "dtype": "i2"
         },
         "xaxis": "x",
         "y": {
          "bdata": "d76fGi8dOEDufD81Xno4QNnO91Pj5ThAnu+nxkuXOUA0MzMzM7M5QGq8dJMYZDpA9P3UeOmmOkDJdr6fGk87QJLtfD81PjtAKFyPwvWoO0AW2c73U+M7QBSuR+F6FDxAQmDl0CL7O0CQwvUoXK87QB6F61G4vjtACKwcWmS7OkAhsHJokU06QJzEILByyDlAeOkmMQjsOUC8dJMYBBY5QO18PzVeejhAoBov3SSGOEBcj8L1KBw4QNnO91PjJThATmIQWDnUN0AgsHJoka03QGQ730+NNzZAokW28/20NUAUrkfhetQ0QJQYBFYOTTRA",
          "dtype": "f8"
         },
         "yaxis": "y"
        },
        {
         "hovertemplate": "region=Other<br>Year=%{x}<br>CO2 Emissions per Capita=%{y}<extra></extra>",
         "legendgroup": "Other",
         "line": {
          "color": "#19d3f3",
          "dash": "solid"
         },
         "marker": {
          "symbol": "circle"
         },
         "mode": "lines",
         "name": "Other",
         "orientation": "v",
         "showlegend": true,
         "type": "scatter",
         "x": {
          "bdata": "ygfLB8wHzQfOB88H0AfRB9IH0wfUB9UH1gfXB9gH2QfaB9sH3AfdB94H3wfgB+EH4gfjB+QH5QfmB+cH",
          "dtype": "i2"
         },
         "xaxis": "x",
         "y": {
          "bdata": "mG4Sg8BKFkCkcD0K1yMWQOF6FK5HYRRA6iYxCKwcFUD6fmq8dBMaQDeJQWDlUBxA9P3UeOmmGkDy0k1iEFgZQNEi2/l+ahpAGQRWDi2yHEDkpZvEILAbQBsv3SQGAR1AuB6F61E4HED6fmq8dBMdQB6F61G4HhxADi2yne+nG0A830+Nl+4aQHsUrkfh+hxARIts5/upG0DD9Shcj0IcQEOLbOf7qRxAQmDl0CLbGkBkO99PjZcbQGIQWDm0SBtAwvUoXI9CG0CYbhKDwEobQIKVQ4ts5xVAcmiR7Xw/FkBEi2zn+ykVQM3MzMzMTBZA",
          "dtype": "f8"
         },
         "yaxis": "y"
        },
        {
         "hovertemplate": "region=South America<br>Year=%{x}<br>CO2 Emissions per Capita=%{y}<extra></extra>",
         "legendgroup": "South America",
         "line": {
          "color": "#FF6692",
          "dash": "solid"
         },
         "marker": {
          "symbol": "circle"
         },
         "mode": "lines",
         "name": "South America",
         "orientation": "v",
         "showlegend": true,
         "type": "scatter",
         "x": {
          "bdata": "ygfLB8wHzQfOB88H0AfRB9IH0wfUB9UH1gfXB9gH2QfaB9sH3AfdB94H3wfgB+EH4gfjB+QH5QfmB+cH",
          "dtype": "i2"
         },
         "xaxis": "x",
         "y": {
          "bdata": "JzEIrByaNECS7Xw/Nd41QBSuR+F6dDZAf2q8dJN4N0B9PzVeuuk3QN9PjZducjhAbhKDwMrhNkDXo3A9Cpc1QIXrUbgepTZA001iEFh5NkCWQ4ts5zs3QIPAyqFF1jdAXrpJDAKLOEAK16NwPQo5QFYOLbKd7zlArkfhehRuOUAK16NwPUo7QNEi2/l+ijtA4XoUrkdhPEBqvHSTGAQ9QI/C9ShcbzxAKVyPwvUIPECJQWDl0GI7QNnO91PjpTpA76fGSzeJOUAbL90kBsE5QLKd76fGazZAK4cW2c6XOEDwp8ZLN0k5QClcj8L1iDlA",
          "dtype": "f8"
         },
         "yaxis": "y"
        }
       ],
       "layout": {
        "legend": {
         "title": {
          "text": "region"
         },
         "tracegroupgap": 0
        },
        "template": {
         "data": {
          "bar": [
           {
            "error_x": {
             "color": "#2a3f5f"
            },
            "error_y": {
             "color": "#2a3f5f"
            },
            "marker": {
             "line": {
              "color": "#E5ECF6",
              "width": 0.5
             },
             "pattern": {
              "fillmode": "overlay",
              "size": 10,
              "solidity": 0.2
             }
            },
            "type": "bar"
           }
          ],
          "barpolar": [
           {
            "marker": {
             "line": {
              "color": "#E5ECF6",
              "width": 0.5
             },
             "pattern": {
              "fillmode": "overlay",
              "size": 10,
              "solidity": 0.2
             }
            },
            "type": "barpolar"
           }
          ],
          "carpet": [
           {
            "aaxis": {
             "endlinecolor": "#2a3f5f",
             "gridcolor": "white",
             "linecolor": "white",
             "minorgridcolor": "white",
             "startlinecolor": "#2a3f5f"
            },
            "baxis": {
             "endlinecolor": "#2a3f5f",
             "gridcolor": "white",
             "linecolor": "white",
             "minorgridcolor": "white",
             "startlinecolor": "#2a3f5f"
            },
            "type": "carpet"
           }
          ],
          "choropleth": [
           {
            "colorbar": {
             "outlinewidth": 0,
             "ticks": ""
            },
            "type": "choropleth"
           }
          ],
          "contour": [
           {
            "colorbar": {
             "outlinewidth": 0,
             "ticks": ""
            },
            "colorscale": [
             [
              0,
              "#0d0887"
             ],
             [
              0.1111111111111111,
              "#46039f"
             ],
             [
              0.2222222222222222,
              "#7201a8"
             ],
             [
              0.3333333333333333,
              "#9c179e"
             ],
             [
              0.4444444444444444,
              "#bd3786"
             ],
             [
              0.5555555555555556,
              "#d8576b"
             ],
             [
              0.6666666666666666,
              "#ed7953"
             ],
             [
              0.7777777777777778,
              "#fb9f3a"
             ],
             [
              0.8888888888888888,
              "#fdca26"
             ],
             [
              1,
              "#f0f921"
             ]
            ],
            "type": "contour"
           }
          ],
          "contourcarpet": [
           {
            "colorbar": {
             "outlinewidth": 0,
             "ticks": ""
            },
            "type": "contourcarpet"
           }
          ],
          "heatmap": [
           {
            "colorbar": {
             "outlinewidth": 0,
             "ticks": ""
            },
            "colorscale": [
             [
              0,
              "#0d0887"
             ],
             [
              0.1111111111111111,
              "#46039f"
             ],
             [
              0.2222222222222222,
              "#7201a8"
             ],
             [
              0.3333333333333333,
              "#9c179e"
             ],
             [
              0.4444444444444444,
              "#bd3786"
             ],
             [
              0.5555555555555556,
              "#d8576b"
             ],
             [
              0.6666666666666666,
              "#ed7953"
             ],
             [
              0.7777777777777778,
              "#fb9f3a"
             ],
             [
              0.8888888888888888,
              "#fdca26"
             ],
             [
              1,
              "#f0f921"
             ]
            ],
            "type": "heatmap"
           }
          ],
          "histogram": [
           {
            "marker": {
             "pattern": {
              "fillmode": "overlay",
              "size": 10,
              "solidity": 0.2
             }
            },
            "type": "histogram"
           }
          ],
          "histogram2d": [
           {
            "colorbar": {
             "outlinewidth": 0,
             "ticks": ""
            },
            "colorscale": [
             [
              0,
              "#0d0887"
             ],
             [
              0.1111111111111111,
              "#46039f"
             ],
             [
              0.2222222222222222,
              "#7201a8"
             ],
             [
              0.3333333333333333,
              "#9c179e"
             ],
             [
              0.4444444444444444,
              "#bd3786"
             ],
             [
              0.5555555555555556,
              "#d8576b"
             ],
             [
              0.6666666666666666,
              "#ed7953"
             ],
             [
              0.7777777777777778,
              "#fb9f3a"
             ],
             [
              0.8888888888888888,
              "#fdca26"
             ],
             [
              1,
              "#f0f921"
             ]
            ],
            "type": "histogram2d"
           }
          ],
          "histogram2dcontour": [
           {
            "colorbar": {
             "outlinewidth": 0,
             "ticks": ""
            },
            "colorscale": [
             [
              0,
              "#0d0887"
             ],
             [
              0.1111111111111111,
              "#46039f"
             ],
             [
              0.2222222222222222,
              "#7201a8"
             ],
             [
              0.3333333333333333,
              "#9c179e"
             ],
             [
              0.4444444444444444,
              "#bd3786"
             ],
             [
              0.5555555555555556,
              "#d8576b"
             ],
             [
              0.6666666666666666,
              "#ed7953"
             ],
             [
              0.7777777777777778,
              "#fb9f3a"
             ],
             [
              0.8888888888888888,
              "#fdca26"
             ],
             [
              1,
              "#f0f921"
             ]
            ],
            "type": "histogram2dcontour"
           }
          ],
          "mesh3d": [
           {
            "colorbar": {
             "outlinewidth": 0,
             "ticks": ""
            },
            "type": "mesh3d"
           }
          ],
          "parcoords": [
           {
            "line": {
             "colorbar": {
              "outlinewidth": 0,
              "ticks": ""
             }
            },
            "type": "parcoords"
           }
          ],
          "pie": [
           {
            "automargin": true,
            "type": "pie"
           }
          ],
          "scatter": [
           {
            "fillpattern": {
             "fillmode": "overlay",
             "size": 10,
             "solidity": 0.2
            },
            "type": "scatter"
           }
          ],
          "scatter3d": [
           {
            "line": {
             "colorbar": {
              "outlinewidth": 0,
              "ticks": ""
             }
            },
            "marker": {
             "colorbar": {
              "outlinewidth": 0,
              "ticks": ""
             }
            },
            "type": "scatter3d"
           }
          ],
          "scattercarpet": [
           {
            "marker": {
             "colorbar": {
              "outlinewidth": 0,
              "ticks": ""
             }
            },
            "type": "scattercarpet"
           }
          ],
          "scattergeo": [
           {
            "marker": {
             "colorbar": {
              "outlinewidth": 0,
              "ticks": ""
             }
            },
            "type": "scattergeo"
           }
          ],
          "scattergl": [
           {
            "marker": {
             "colorbar": {
              "outlinewidth": 0,
              "ticks": ""
             }
            },
            "type": "scattergl"
           }
          ],
          "scattermap": [
           {
            "marker": {
             "colorbar": {
              "outlinewidth": 0,
              "ticks": ""
             }
            },
            "type": "scattermap"
           }
          ],
          "scattermapbox": [
           {
            "marker": {
             "colorbar": {
              "outlinewidth": 0,
              "ticks": ""
             }
            },
            "type": "scattermapbox"
           }
          ],
          "scatterpolar": [
           {
            "marker": {
             "colorbar": {
              "outlinewidth": 0,
              "ticks": ""
             }
            },
            "type": "scatterpolar"
           }
          ],
          "scatterpolargl": [
           {
            "marker": {
             "colorbar": {
              "outlinewidth": 0,
              "ticks": ""
             }
            },
            "type": "scatterpolargl"
           }
          ],
          "scatterternary": [
           {
            "marker": {
             "colorbar": {
              "outlinewidth": 0,
              "ticks": ""
             }
            },
            "type": "scatterternary"
           }
          ],
          "surface": [
           {
            "colorbar": {
             "outlinewidth": 0,
             "ticks": ""
            },
            "colorscale": [
             [
              0,
              "#0d0887"
             ],
             [
              0.1111111111111111,
              "#46039f"
             ],
             [
              0.2222222222222222,
              "#7201a8"
             ],
             [
              0.3333333333333333,
              "#9c179e"
             ],
             [
              0.4444444444444444,
              "#bd3786"
             ],
             [
              0.5555555555555556,
              "#d8576b"
             ],
             [
              0.6666666666666666,
              "#ed7953"
             ],
             [
              0.7777777777777778,
              "#fb9f3a"
             ],
             [
              0.8888888888888888,
              "#fdca26"
             ],
             [
              1,
              "#f0f921"
             ]
            ],
            "type": "surface"
           }
          ],
          "table": [
           {
            "cells": {
             "fill": {
              "color": "#EBF0F8"
             },
             "line": {
              "color": "white"
             }
            },
            "header": {
             "fill": {
              "color": "#C8D4E3"
             },
             "line": {
              "color": "white"
             }
            },
            "type": "table"
           }
          ]
         },
         "layout": {
          "annotationdefaults": {
           "arrowcolor": "#2a3f5f",
           "arrowhead": 0,
           "arrowwidth": 1
          },
          "autotypenumbers": "strict",
          "coloraxis": {
           "colorbar": {
            "outlinewidth": 0,
            "ticks": ""
           }
          },
          "colorscale": {
           "diverging": [
            [
             0,
             "#8e0152"
            ],
            [
             0.1,
             "#c51b7d"
            ],
            [
             0.2,
             "#de77ae"
            ],
            [
             0.3,
             "#f1b6da"
            ],
            [
             0.4,
             "#fde0ef"
            ],
            [
             0.5,
             "#f7f7f7"
            ],
            [
             0.6,
             "#e6f5d0"
            ],
            [
             0.7,
             "#b8e186"
            ],
            [
             0.8,
             "#7fbc41"
            ],
            [
             0.9,
             "#4d9221"
            ],
            [
             1,
             "#276419"
            ]
           ],
           "sequential": [
            [
             0,
             "#0d0887"
            ],
            [
             0.1111111111111111,
             "#46039f"
            ],
            [
             0.2222222222222222,
             "#7201a8"
            ],
            [
             0.3333333333333333,
             "#9c179e"
            ],
            [
             0.4444444444444444,
             "#bd3786"
            ],
            [
             0.5555555555555556,
             "#d8576b"
            ],
            [
             0.6666666666666666,
             "#ed7953"
            ],
            [
             0.7777777777777778,
             "#fb9f3a"
            ],
            [
             0.8888888888888888,
             "#fdca26"
            ],
            [
             1,
             "#f0f921"
            ]
           ],
           "sequentialminus": [
            [
             0,
             "#0d0887"
            ],
            [
             0.1111111111111111,
             "#46039f"
            ],
            [
             0.2222222222222222,
             "#7201a8"
            ],
            [
             0.3333333333333333,
             "#9c179e"
            ],
            [
             0.4444444444444444,
             "#bd3786"
            ],
            [
             0.5555555555555556,
             "#d8576b"
            ],
            [
             0.6666666666666666,
             "#ed7953"
            ],
            [
             0.7777777777777778,
             "#fb9f3a"
            ],
            [
             0.8888888888888888,
             "#fdca26"
            ],
            [
             1,
             "#f0f921"
            ]
           ]
          },
          "colorway": [
           "#636efa",
           "#EF553B",
           "#00cc96",
           "#ab63fa",
           "#FFA15A",
           "#19d3f3",
           "#FF6692",
           "#B6E880",
           "#FF97FF",
           "#FECB52"
          ],
          "font": {
           "color": "#2a3f5f"
          },
          "geo": {
           "bgcolor": "white",
           "lakecolor": "white",
           "landcolor": "#E5ECF6",
           "showlakes": true,
           "showland": true,
           "subunitcolor": "white"
          },
          "hoverlabel": {
           "align": "left"
          },
          "hovermode": "closest",
          "mapbox": {
           "style": "light"
          },
          "paper_bgcolor": "white",
          "plot_bgcolor": "#E5ECF6",
          "polar": {
           "angularaxis": {
            "gridcolor": "white",
            "linecolor": "white",
            "ticks": ""
           },
           "bgcolor": "#E5ECF6",
           "radialaxis": {
            "gridcolor": "white",
            "linecolor": "white",
            "ticks": ""
           }
          },
          "scene": {
           "xaxis": {
            "backgroundcolor": "#E5ECF6",
            "gridcolor": "white",
            "gridwidth": 2,
            "linecolor": "white",
            "showbackground": true,
            "ticks": "",
            "zerolinecolor": "white"
           },
           "yaxis": {
            "backgroundcolor": "#E5ECF6",
            "gridcolor": "white",
            "gridwidth": 2,
            "linecolor": "white",
            "showbackground": true,
            "ticks": "",
            "zerolinecolor": "white"
           },
           "zaxis": {
            "backgroundcolor": "#E5ECF6",
            "gridcolor": "white",
            "gridwidth": 2,
            "linecolor": "white",
            "showbackground": true,
            "ticks": "",
            "zerolinecolor": "white"
           }
          },
          "shapedefaults": {
           "line": {
            "color": "#2a3f5f"
           }
          },
          "ternary": {
           "aaxis": {
            "gridcolor": "white",
            "linecolor": "white",
            "ticks": ""
           },
           "baxis": {
            "gridcolor": "white",
            "linecolor": "white",
            "ticks": ""
           },
           "bgcolor": "#E5ECF6",
           "caxis": {
            "gridcolor": "white",
            "linecolor": "white",
            "ticks": ""
           }
          },
          "title": {
           "x": 0.05
          },
          "xaxis": {
           "automargin": true,
           "gridcolor": "white",
           "linecolor": "white",
           "ticks": "",
           "title": {
            "standoff": 15
           },
           "zerolinecolor": "white",
           "zerolinewidth": 2
          },
          "yaxis": {
           "automargin": true,
           "gridcolor": "white",
           "linecolor": "white",
           "ticks": "",
           "title": {
            "standoff": 15
           },
           "zerolinecolor": "white",
           "zerolinewidth": 2
          }
         }
        },
        "title": {
         "text": "CO2 Emissions per Capita Over Time"
        },
        "xaxis": {
         "anchor": "y",
         "domain": [
          0,
          1
         ],
         "title": {
          "text": "Year"
         }
        },
        "yaxis": {
         "anchor": "x",
         "domain": [
          0,
          1
         ],
         "title": {
          "text": "CO2 Emissions per Capita"
         }
        }
       }
      }
     },
     "metadata": {},
     "output_type": "display_data"
    },
    {
     "data": {
      "application/vnd.plotly.v1+json": {
       "config": {
        "plotlyServerURL": "https://plot.ly"
       },
       "data": [
        {
         "hovertemplate": "region=Africa<br>Year=%{x}<br>CO2 Emissions per Capita=%{y}<extra></extra>",
         "legendgroup": "Africa",
         "line": {
          "color": "#636efa",
          "dash": "solid"
         },
         "marker": {
          "symbol": "circle"
         },
         "mode": "lines",
         "name": "Africa",
         "orientation": "v",
         "showlegend": true,
         "type": "scatter",
         "x": {
          "bdata": "ygfLB8wHzQfOB88H0AfRB9IH0wfUB9UH1gfXB9gH2QfaB9sH3AfdB94H3wfgB+EH4gfjB+QH5QfmB+cH",
          "dtype": "i2"
         },
         "xaxis": "x",
         "y": {
          "bdata": "QmDl0CLb0T+TGARWDi3SP8P1KFyPwtU/hxbZzvdT0z9vEoPAyqHVPxkEVg4tstU/yXa+nxov1T+LbOf7qfHSP9V46SYxCNQ/f2q8dJMY1D8nMQisHFrUP+F6FK5H4dI/cT0K16Nw1T9SuB6F61HYP8HKoUW289U/+FPjpZvE2D9OYhBYObTYP166SQwCK9c/sp3vp8ZL1z/2KFyPwvXYP0Jg5dAi29k/g8DKoUW22z8zMzMzMzPbP5zEILByaNk/O99PjZdu2j8730+Nl27aPzVeukkMAts/Gy/dJAaB3T/Xo3A9CtfbP99PjZduEts/",
          "dtype": "f8"
         },
         "yaxis": "y"
        },
        {
         "hovertemplate": "region=Asia<br>Year=%{x}<br>CO2 Emissions per Capita=%{y}<extra></extra>",
         "legendgroup": "Asia",
         "line": {
          "color": "#EF553B",
          "dash": "solid"
         },
         "marker": {
          "symbol": "circle"
         },
         "mode": "lines",
         "name": "Asia",
         "orientation": "v",
         "showlegend": true,
         "type": "scatter",
         "x": {
          "bdata": "ygfLB8wHzQfOB88H0AfRB9IH0wfUB9UH1gfXB9gH2QfaB9sH3AfdB94H3wfgB+EH4gfjB+QH5QfmB+cH",
          "dtype": "i2"
         },
         "xaxis": "x",
         "y": {
          "bdata": "Rrbz/dR4CECwcmiR7fwIQBgEVg4tMglA5dAi2/l+CUASg8DKoUUJQM/3U+OlmwhAnu+nxks3CEDfT42XbhIIQBsv3SQGgQlAKVyPwvUoCUBYObTIdr4KQOkmMQisHAtAVg4tsp3vCUDwp8ZLN4kJQLpJDAIrhwpArBxaZDvfCkDpJjEIrBwMQDEIrBxaZAxA001iEFg5DkBoke18PzUOQLpJDAIrhwxAppvEILByDEBeukkMAisMQAwCK4cW2QtAJQaBlUOLC0B3vp8aL90NQMUgsHJokQ1ASgwCK4cWDEBvEoPAyqEMQAAAAAAAAAxA",
          "dtype": "f8"
         },
         "yaxis": "y"
        },
        {
         "hovertemplate": "region=Europe<br>Year=%{x}<br>CO2 Emissions per Capita=%{y}<extra></extra>",
         "legendgroup": "Europe",
         "line": {
          "color": "#00cc96",
          "dash": "solid"
         },
         "marker": {
          "symbol": "circle"
         },
         "mode": "lines",
         "name": "Europe",
         "orientation": "v",
         "showlegend": true,
         "type": "scatter",
         "x": {
          "bdata": "ygfLB8wHzQfOB88H0AfRB9IH0wfUB9UH1gfXB9gH2QfaB9sH3AfdB94H3wfgB+EH4gfjB+QH5QfmB+cH",
          "dtype": "i2"
         },
         "xaxis": "x",
         "y": {
          "bdata": "NV66SQyCHUCyne+nxoseQC/dJAaB1R1AmG4Sg8BKHUDsUbgehSseQGZmZmZmJh5AEoPAyqFFHkD2KFyPwjUfQHWTGARWjh9AQmDl0CKbH0CgGi/dJCYgQFYOLbKd7x9A8tJNYhAYIEC8dJMYBNYfQI/C9ShcDx1AsHJoke18GUBSuB6F61EaQEoMAiuHFhxAVg4tsp1vGkCyne+nxssZQGZmZmZm5hhATmIQWDm0GEC6SQwCKwcZQFCNl24SAxlAHVpkO9/PGEAj2/l+ajwYQBKDwMqhxRRAAAAAAACAFkBCYOXQItsWQFg5tMh2PhVA",
          "dtype": "f8"
         },
         "yaxis": "y"
        },
        {
         "hovertemplate": "region=North America<br>Year=%{x}<br>CO2 Emissions per Capita=%{y}<extra></extra>",
         "legendgroup": "North America",
         "line": {
          "color": "#ab63fa",
          "dash": "solid"
         },
         "marker": {
          "symbol": "circle"
         },
         "mode": "lines",
         "name": "North America",
         "orientation": "v",
         "showlegend": true,
         "type": "scatter",
         "x": {
          "bdata": "ygfLB8wHzQfOB88H0AfRB9IH0wfUB9UH1gfXB9gH2QfaB9sH3AfdB94H3wfgB+EH4gfjB+QH5QfmB+cH",
          "dtype": "i2"
         },
         "xaxis": "x",
         "y": {
          "bdata": "CtejcD0K+T9Ei2zn+6n9P166SQwCK/8/H4XrUbge/z93vp8aL90AQOF6FK5H4QBAWmQ730+NAUC4HoXrUbgBQPhT46WbxAFAc2iR7Xw/AkDZzvdT46UAQHsUrkfhegFAokW28/3UAUAIrBxaZDsCQPp+arx0kwNATmIQWDm0A0AAAAAAAAAEQPp+arx0kwRAYhBYObTIBECNl24Sg8ADQGZmZmZmZgNApHA9CtejBEBiEFg5tMgDQGq8dJMYBAJAtvP91HjpAkDXo3A9CtcEQNnO91PjpQJAnMQgsHJoA0DpJjEIrBwEQCUGgZVDiwVA",
          "dtype": "f8"
         },
         "yaxis": "y"
        },
        {
         "hovertemplate": "region=Oceania<br>Year=%{x}<br>CO2 Emissions per Capita=%{y}<extra></extra>",
         "legendgroup": "Oceania",
         "line": {
          "color": "#FFA15A",
          "dash": "solid"
         },
         "marker": {
          "symbol": "circle"
         },
         "mode": "lines",
         "name": "Oceania",
         "orientation": "v",
         "showlegend": true,
         "type": "scatter",
         "x": {
          "bdata": "ygfLB8wHzQfOB88H0AfRB9IH0wfUB9UH1gfXB9gH2QfaB9sH3AfdB94H3wfgB+EH4gfjB+QH5QfmB+cH",
          "dtype": "i2"
         },
         "xaxis": "x",
         "y": {
          "bdata": "d76fGi8dKEDufD81XnooQNnO91Pj5ShAnu+nxkuXKUA0MzMzM7MpQGq8dJMYZCpA9P3UeOmmKkDJdr6fGk8rQJLtfD81PitAKFyPwvWoK0AW2c73U+MrQBSuR+F6FCxAQmDl0CL7K0CQwvUoXK8rQB6F61G4vitACKwcWmS7KkAhsHJokU0qQJzEILByyClAeOkmMQjsKUC8dJMYBBYpQO18PzVeeihAoBov3SSGKEBcj8L1KBwoQNnO91PjJShATmIQWDnUJ0AgsHJoka0nQGQ730+NNyZAokW28/20JUAUrkfhetQkQJQYBFYOTSRA",
          "dtype": "f8"
         },
         "yaxis": "y"
        },
        {
         "hovertemplate": "region=Other<br>Year=%{x}<br>CO2 Emissions per Capita=%{y}<extra></extra>",
         "legendgroup": "Other",
         "line": {
          "color": "#19d3f3",
          "dash": "solid"
         },
         "marker": {
          "symbol": "circle"
         },
         "mode": "lines",
         "name": "Other",
         "orientation": "v",
         "showlegend": true,
         "type": "scatter",
         "x": {
          "bdata": "ygfLB8wHzQfOB88H0AfRB9IH0wfUB9UH1gfXB9gH2QfaB9sH3AfdB94H3wfgB+EH4gfjB+QH5QfmB+cH",
          "dtype": "i2"
         },
         "xaxis": "x",
         "y": {
          "bdata": "mG4Sg8BKBkCkcD0K1yMGQOF6FK5HYQRA6iYxCKwcBUD6fmq8dBMKQDeJQWDlUAxA9P3UeOmmCkDy0k1iEFgJQNEi2/l+agpAGQRWDi2yDEDkpZvEILALQBsv3SQGAQ1AuB6F61E4DED6fmq8dBMNQB6F61G4HgxADi2yne+nC0A830+Nl+4KQHsUrkfh+gxARIts5/upC0DD9Shcj0IMQEOLbOf7qQxAQmDl0CLbCkBkO99PjZcLQGIQWDm0SAtAwvUoXI9CC0CYbhKDwEoLQIKVQ4ts5wVAcmiR7Xw/BkBEi2zn+ykFQM3MzMzMTAZA",
          "dtype": "f8"
         },
         "yaxis": "y"
        },
        {
         "hovertemplate": "region=South America<br>Year=%{x}<br>CO2 Emissions per Capita=%{y}<extra></extra>",
         "legendgroup": "South America",
         "line": {
          "color": "#FF6692",
          "dash": "solid"
         },
         "marker": {
          "symbol": "circle"
         },
         "mode": "lines",
         "name": "South America",
         "orientation": "v",
         "showlegend": true,
         "type": "scatter",
         "x": {
          "bdata": "ygfLB8wHzQfOB88H0AfRB9IH0wfUB9UH1gfXB9gH2QfaB9sH3AfdB94H3wfgB+EH4gfjB+QH5QfmB+cH",
          "dtype": "i2"
         },
         "xaxis": "x",
         "y": {
          "bdata": "7FG4HoXr9j/EILByaJH6Py/dJAaBlfs/jpduEoPA+z9WDi2yne/8PycxCKwcWv0/f2q8dJMY+j+YbhKDwMr6Pz0K16NwPfo/ehSuR+F6+j8yCKwcWmT9P+58PzVeuv0/DAIrhxbZ/z82XrpJDAL/P8uhRbbz/QBArkfhehQuAUDJdr6fGq8AQJQYBFYOrQJACKwcWmS7A0DKoUW28/0CQLByaJHt/AJAGi/dJAaBAkCVQ4ts53sBQESLbOf7KQFAvHSTGATWAEDHSzeJQeAAQHJoke18P/4/ku18PzXeAUCyne+nxksCQBov3SQGgQJA",
          "dtype": "f8"
         },
         "yaxis": "y"
        }
       ],
       "layout": {
        "legend": {
         "title": {
          "text": "region"
         },
         "tracegroupgap": 0
        },
        "template": {
         "data": {
          "bar": [
           {
            "error_x": {
             "color": "#2a3f5f"
            },
            "error_y": {
             "color": "#2a3f5f"
            },
            "marker": {
             "line": {
              "color": "#E5ECF6",
              "width": 0.5
             },
             "pattern": {
              "fillmode": "overlay",
              "size": 10,
              "solidity": 0.2
             }
            },
            "type": "bar"
           }
          ],
          "barpolar": [
           {
            "marker": {
             "line": {
              "color": "#E5ECF6",
              "width": 0.5
             },
             "pattern": {
              "fillmode": "overlay",
              "size": 10,
              "solidity": 0.2
             }
            },
            "type": "barpolar"
           }
          ],
          "carpet": [
           {
            "aaxis": {
             "endlinecolor": "#2a3f5f",
             "gridcolor": "white",
             "linecolor": "white",
             "minorgridcolor": "white",
             "startlinecolor": "#2a3f5f"
            },
            "baxis": {
             "endlinecolor": "#2a3f5f",
             "gridcolor": "white",
             "linecolor": "white",
             "minorgridcolor": "white",
             "startlinecolor": "#2a3f5f"
            },
            "type": "carpet"
           }
          ],
          "choropleth": [
           {
            "colorbar": {
             "outlinewidth": 0,
             "ticks": ""
            },
            "type": "choropleth"
           }
          ],
          "contour": [
           {
            "colorbar": {
             "outlinewidth": 0,
             "ticks": ""
            },
            "colorscale": [
             [
              0,
              "#0d0887"
             ],
             [
              0.1111111111111111,
              "#46039f"
             ],
             [
              0.2222222222222222,
              "#7201a8"
             ],
             [
              0.3333333333333333,
              "#9c179e"
             ],
             [
              0.4444444444444444,
              "#bd3786"
             ],
             [
              0.5555555555555556,
              "#d8576b"
             ],
             [
              0.6666666666666666,
              "#ed7953"
             ],
             [
              0.7777777777777778,
              "#fb9f3a"
             ],
             [
              0.8888888888888888,
              "#fdca26"
             ],
             [
              1,
              "#f0f921"
             ]
            ],
            "type": "contour"
           }
          ],
          "contourcarpet": [
           {
            "colorbar": {
             "outlinewidth": 0,
             "ticks": ""
            },
            "type": "contourcarpet"
           }
          ],
          "heatmap": [
           {
            "colorbar": {
             "outlinewidth": 0,
             "ticks": ""
            },
            "colorscale": [
             [
              0,
              "#0d0887"
             ],
             [
              0.1111111111111111,
              "#46039f"
             ],
             [
              0.2222222222222222,
              "#7201a8"
             ],
             [
              0.3333333333333333,
              "#9c179e"
             ],
             [
              0.4444444444444444,
              "#bd3786"
             ],
             [
              0.5555555555555556,
              "#d8576b"
             ],
             [
              0.6666666666666666,
              "#ed7953"
             ],
             [
              0.7777777777777778,
              "#fb9f3a"
             ],
             [
              0.8888888888888888,
              "#fdca26"
             ],
             [
              1,
              "#f0f921"
             ]
            ],
            "type": "heatmap"
           }
          ],
          "histogram": [
           {
            "marker": {
             "pattern": {
              "fillmode": "overlay",
              "size": 10,
              "solidity": 0.2
             }
            },
            "type": "histogram"
           }
          ],
          "histogram2d": [
           {
            "colorbar": {
             "outlinewidth": 0,
             "ticks": ""
            },
            "colorscale": [
             [
              0,
              "#0d0887"
             ],
             [
              0.1111111111111111,
              "#46039f"
             ],
             [
              0.2222222222222222,
              "#7201a8"
             ],
             [
              0.3333333333333333,
              "#9c179e"
             ],
             [
              0.4444444444444444,
              "#bd3786"
             ],
             [
              0.5555555555555556,
              "#d8576b"
             ],
             [
              0.6666666666666666,
              "#ed7953"
             ],
             [
              0.7777777777777778,
              "#fb9f3a"
             ],
             [
              0.8888888888888888,
              "#fdca26"
             ],
             [
              1,
              "#f0f921"
             ]
            ],
            "type": "histogram2d"
           }
          ],
          "histogram2dcontour": [
           {
            "colorbar": {
             "outlinewidth": 0,
             "ticks": ""
            },
            "colorscale": [
             [
              0,
              "#0d0887"
             ],
             [
              0.1111111111111111,
              "#46039f"
             ],
             [
              0.2222222222222222,
              "#7201a8"
             ],
             [
              0.3333333333333333,
              "#9c179e"
             ],
             [
              0.4444444444444444,
              "#bd3786"
             ],
             [
              0.5555555555555556,
              "#d8576b"
             ],
             [
              0.6666666666666666,
              "#ed7953"
             ],
             [
              0.7777777777777778,
              "#fb9f3a"
             ],
             [
              0.8888888888888888,
              "#fdca26"
             ],
             [
              1,
              "#f0f921"
             ]
            ],
            "type": "histogram2dcontour"
           }
          ],
          "mesh3d": [
           {
            "colorbar": {
             "outlinewidth": 0,
             "ticks": ""
            },
            "type": "mesh3d"
           }
          ],
          "parcoords": [
           {
            "line": {
             "colorbar": {
              "outlinewidth": 0,
              "ticks": ""
             }
            },
            "type": "parcoords"
           }
          ],
          "pie": [
           {
            "automargin": true,
            "type": "pie"
           }
          ],
          "scatter": [
           {
            "fillpattern": {
             "fillmode": "overlay",
             "size": 10,
             "solidity": 0.2
            },
            "type": "scatter"
           }
          ],
          "scatter3d": [
           {
            "line": {
             "colorbar": {
              "outlinewidth": 0,
              "ticks": ""
             }
            },
            "marker": {
             "colorbar": {
              "outlinewidth": 0,
              "ticks": ""
             }
            },
            "type": "scatter3d"
           }
          ],
          "scattercarpet": [
           {
            "marker": {
             "colorbar": {
              "outlinewidth": 0,
              "ticks": ""
             }
            },
            "type": "scattercarpet"
           }
          ],
          "scattergeo": [
           {
            "marker": {
             "colorbar": {
              "outlinewidth": 0,
              "ticks": ""
             }
            },
            "type": "scattergeo"
           }
          ],
          "scattergl": [
           {
            "marker": {
             "colorbar": {
              "outlinewidth": 0,
              "ticks": ""
             }
            },
            "type": "scattergl"
           }
          ],
          "scattermap": [
           {
            "marker": {
             "colorbar": {
              "outlinewidth": 0,
              "ticks": ""
             }
            },
            "type": "scattermap"
           }
          ],
          "scattermapbox": [
           {
            "marker": {
             "colorbar": {
              "outlinewidth": 0,
              "ticks": ""
             }
            },
            "type": "scattermapbox"
           }
          ],
          "scatterpolar": [
           {
            "marker": {
             "colorbar": {
              "outlinewidth": 0,
              "ticks": ""
             }
            },
            "type": "scatterpolar"
           }
          ],
          "scatterpolargl": [
           {
            "marker": {
             "colorbar": {
              "outlinewidth": 0,
              "ticks": ""
             }
            },
            "type": "scatterpolargl"
           }
          ],
          "scatterternary": [
           {
            "marker": {
             "colorbar": {
              "outlinewidth": 0,
              "ticks": ""
             }
            },
            "type": "scatterternary"
           }
          ],
          "surface": [
           {
            "colorbar": {
             "outlinewidth": 0,
             "ticks": ""
            },
            "colorscale": [
             [
              0,
              "#0d0887"
             ],
             [
              0.1111111111111111,
              "#46039f"
             ],
             [
              0.2222222222222222,
              "#7201a8"
             ],
             [
              0.3333333333333333,
              "#9c179e"
             ],
             [
              0.4444444444444444,
              "#bd3786"
             ],
             [
              0.5555555555555556,
              "#d8576b"
             ],
             [
              0.6666666666666666,
              "#ed7953"
             ],
             [
              0.7777777777777778,
              "#fb9f3a"
             ],
             [
              0.8888888888888888,
              "#fdca26"
             ],
             [
              1,
              "#f0f921"
             ]
            ],
            "type": "surface"
           }
          ],
          "table": [
           {
            "cells": {
             "fill": {
              "color": "#EBF0F8"
             },
             "line": {
              "color": "white"
             }
            },
            "header": {
             "fill": {
              "color": "#C8D4E3"
             },
             "line": {
              "color": "white"
             }
            },
            "type": "table"
           }
          ]
         },
         "layout": {
          "annotationdefaults": {
           "arrowcolor": "#2a3f5f",
           "arrowhead": 0,
           "arrowwidth": 1
          },
          "autotypenumbers": "strict",
          "coloraxis": {
           "colorbar": {
            "outlinewidth": 0,
            "ticks": ""
           }
          },
          "colorscale": {
           "diverging": [
            [
             0,
             "#8e0152"
            ],
            [
             0.1,
             "#c51b7d"
            ],
            [
             0.2,
             "#de77ae"
            ],
            [
             0.3,
             "#f1b6da"
            ],
            [
             0.4,
             "#fde0ef"
            ],
            [
             0.5,
             "#f7f7f7"
            ],
            [
             0.6,
             "#e6f5d0"
            ],
            [
             0.7,
             "#b8e186"
            ],
            [
             0.8,
             "#7fbc41"
            ],
            [
             0.9,
             "#4d9221"
            ],
            [
             1,
             "#276419"
            ]
           ],
           "sequential": [
            [
             0,
             "#0d0887"
            ],
            [
             0.1111111111111111,
             "#46039f"
            ],
            [
             0.2222222222222222,
             "#7201a8"
            ],
            [
             0.3333333333333333,
             "#9c179e"
            ],
            [
             0.4444444444444444,
             "#bd3786"
            ],
            [
             0.5555555555555556,
             "#d8576b"
            ],
            [
             0.6666666666666666,
             "#ed7953"
            ],
            [
             0.7777777777777778,
             "#fb9f3a"
            ],
            [
             0.8888888888888888,
             "#fdca26"
            ],
            [
             1,
             "#f0f921"
            ]
           ],
           "sequentialminus": [
            [
             0,
             "#0d0887"
            ],
            [
             0.1111111111111111,
             "#46039f"
            ],
            [
             0.2222222222222222,
             "#7201a8"
            ],
            [
             0.3333333333333333,
             "#9c179e"
            ],
            [
             0.4444444444444444,
             "#bd3786"
            ],
            [
             0.5555555555555556,
             "#d8576b"
            ],
            [
             0.6666666666666666,
             "#ed7953"
            ],
            [
             0.7777777777777778,
             "#fb9f3a"
            ],
            [
             0.8888888888888888,
             "#fdca26"
            ],
            [
             1,
             "#f0f921"
            ]
           ]
          },
          "colorway": [
           "#636efa",
           "#EF553B",
           "#00cc96",
           "#ab63fa",
           "#FFA15A",
           "#19d3f3",
           "#FF6692",
           "#B6E880",
           "#FF97FF",
           "#FECB52"
          ],
          "font": {
           "color": "#2a3f5f"
          },
          "geo": {
           "bgcolor": "white",
           "lakecolor": "white",
           "landcolor": "#E5ECF6",
           "showlakes": true,
           "showland": true,
           "subunitcolor": "white"
          },
          "hoverlabel": {
           "align": "left"
          },
          "hovermode": "closest",
          "mapbox": {
           "style": "light"
          },
          "paper_bgcolor": "white",
          "plot_bgcolor": "#E5ECF6",
          "polar": {
           "angularaxis": {
            "gridcolor": "white",
            "linecolor": "white",
            "ticks": ""
           },
           "bgcolor": "#E5ECF6",
           "radialaxis": {
            "gridcolor": "white",
            "linecolor": "white",
            "ticks": ""
           }
          },
          "scene": {
           "xaxis": {
            "backgroundcolor": "#E5ECF6",
            "gridcolor": "white",
            "gridwidth": 2,
            "linecolor": "white",
            "showbackground": true,
            "ticks": "",
            "zerolinecolor": "white"
           },
           "yaxis": {
            "backgroundcolor": "#E5ECF6",
            "gridcolor": "white",
            "gridwidth": 2,
            "linecolor": "white",
            "showbackground": true,
            "ticks": "",
            "zerolinecolor": "white"
           },
           "zaxis": {
            "backgroundcolor": "#E5ECF6",
            "gridcolor": "white",
            "gridwidth": 2,
            "linecolor": "white",
            "showbackground": true,
            "ticks": "",
            "zerolinecolor": "white"
           }
          },
          "shapedefaults": {
           "line": {
            "color": "#2a3f5f"
           }
          },
          "ternary": {
           "aaxis": {
            "gridcolor": "white",
            "linecolor": "white",
            "ticks": ""
           },
           "baxis": {
            "gridcolor": "white",
            "linecolor": "white",
            "ticks": ""
           },
           "bgcolor": "#E5ECF6",
           "caxis": {
            "gridcolor": "white",
            "linecolor": "white",
            "ticks": ""
           }
          },
          "title": {
           "x": 0.05
          },
          "xaxis": {
           "automargin": true,
           "gridcolor": "white",
           "linecolor": "white",
           "ticks": "",
           "title": {
            "standoff": 15
           },
           "zerolinecolor": "white",
           "zerolinewidth": 2
          },
          "yaxis": {
           "automargin": true,
           "gridcolor": "white",
           "linecolor": "white",
           "ticks": "",
           "title": {
            "standoff": 15
           },
           "zerolinecolor": "white",
           "zerolinewidth": 2
          }
         }
        },
        "title": {
         "text": "CO2 Emissions per Capita Over Time"
        },
        "xaxis": {
         "anchor": "y",
         "domain": [
          0,
          1
         ],
         "title": {
          "text": "Year"
         }
        },
        "yaxis": {
         "anchor": "x",
         "domain": [
          0,
          1
         ],
         "title": {
          "text": "CO2 Emissions per Capita"
         }
        }
       }
      }
     },
     "metadata": {},
     "output_type": "display_data"
    },
    {
     "data": {
      "application/vnd.plotly.v1+json": {
       "config": {
        "plotlyServerURL": "https://plot.ly"
       },
       "data": [
        {
         "hovertemplate": "region=Africa<br>Year=%{x}<br>CO2 Emissions per Capita=%{y}<extra></extra>",
         "legendgroup": "Africa",
         "line": {
          "color": "#636efa",
          "dash": "solid"
         },
         "marker": {
          "symbol": "circle"
         },
         "mode": "lines",
         "name": "Africa",
         "orientation": "v",
         "showlegend": true,
         "type": "scatter",
         "x": {
          "bdata": "ygfLB8wHzQfOB88H0AfRB9IH0wfUB9UH1gfXB9gH2QfaB9sH3AfdB94H3wfgB+EH4gfjB+QH5QfmB+cH",
          "dtype": "i2"
         },
         "xaxis": "x",
         "y": {
          "bdata": "CKwcWmQ7rz97FK5H4Xq0P1g5tMh2vq8/SgwCK4cWqT8ZBFYOLbKtP1g5tMh2vq8/yXa+nxovrT/Jdr6fGi+tP1g5tMh2vq8/cT0K16Nw3T+iRbbz/dS4P5qZmZmZmak/pHA9Ctej2D/D9Shcj8K1P1pkO99PjZc/+n5qvHSTmD/sUbgeheuxP2q8dJMYBKY/2/l+arx0oz+TGARWDi2yP9nO91PjpZs//Knx0k1ioD/8qfHSTWKgPwrXo3A9Cqc/nMQgsHJowT/ufD81XrrRP/Cnxks3icE/MzMzMzMzwz+JQWDl0CKrP7pJDAIrh6Y/",
          "dtype": "f8"
         },
         "yaxis": "y"
        },
        {
         "hovertemplate": "region=Asia<br>Year=%{x}<br>CO2 Emissions per Capita=%{y}<extra></extra>",
         "legendgroup": "Asia",
         "line": {
          "color": "#EF553B",
          "dash": "solid"
         },
         "marker": {
          "symbol": "circle"
         },
         "mode": "lines",
         "name": "Asia",
         "orientation": "v",
         "showlegend": true,
         "type": "scatter",
         "x": {
          "bdata": "ygfLB8wHzQfOB88H0AfRB9IH0wfUB9UH1gfXB9gH2QfaB9sH3AfdB94H3wfgB+EH4gfjB+QH5QfmB+cH",
          "dtype": "i2"
         },
         "xaxis": "x",
         "y": {
          "bdata": "MzMzMzMzsz9zaJHtfD+1P4ts5/up8eo/kxgEVg4tsj8rhxbZzvfDPylcj8L1KKw/ObTIdr6fqj+JQWDl0CKrP1TjpZvEILA/MQisHFpkyz+JQWDl0CKrP4PAyqFFtrM/w/UoXI/CtT/6fmq8dJO4P1g5tMh2vr8/d76fGi/d1D+6SQwCK4fGP1K4HoXrUcg/Rrbz/dR4yT/NzMzMzMzMP/Cnxks3idE/WDm0yHa+zz+mm8QgsHLQP/LSTWIQWNE/5dAi2/l+0j/n+6nx0k3SPzVeukkMAtM/ppvEILBy0D+kcD0K16PQP1K4HoXrUdA/",
          "dtype": "f8"
         },
         "yaxis": "y"
        },
        {
         "hovertemplate": "region=Europe<br>Year=%{x}<br>CO2 Emissions per Capita=%{y}<extra></extra>",
         "legendgroup": "Europe",
         "line": {
          "color": "#00cc96",
          "dash": "solid"
         },
         "marker": {
          "symbol": "circle"
         },
         "mode": "lines",
         "name": "Europe",
         "orientation": "v",
         "showlegend": true,
         "type": "scatter",
         "x": {
          "bdata": "ygfLB8wHzQfOB88H0AfRB9IH0wfUB9UH1gfXB9gH2QfaB9sH3AfdB94H3wfgB+EH4gfjB+QH5QfmB+cH",
          "dtype": "i2"
         },
         "xaxis": "x",
         "y": {
          "bdata": "N4lBYOXQ4j9QjZduEoPkP4GVQ4ts5+M/ZDvfT42X3j8bL90kBoHhP2Q730+NFyNANV66SQwC6z8hsHJoke3sP7Kd76fGS+8/MzMzMzMz8T89CtejcD3yP+kmMQisnCVAUI2XbhKD9D/jpZvEILD0PyuHFtnO9/U/mpmZmZmZ8z9I4XoUrkf1Pz0K16NwPfY/Vg4tsp1vGkDLoUW28/32P2IQWDm0yPY/SOF6FK5H9z89CtejcD34Pylcj8L1KPo/dZMYBFYO+z/4U+Olm8T6Pz0K16NwPfo/okW28/3U/D9I4XoUrkf9P1pkO99PjQxA",
          "dtype": "f8"
         },
         "yaxis": "y"
        },
        {
         "hovertemplate": "region=North America<br>Year=%{x}<br>CO2 Emissions per Capita=%{y}<extra></extra>",
         "legendgroup": "North America",
         "line": {
          "color": "#ab63fa",
          "dash": "solid"
         },
         "marker": {
          "symbol": "circle"
         },
         "mode": "lines",
         "name": "North America",
         "orientation": "v",
         "showlegend": true,
         "type": "scatter",
         "x": {
          "bdata": "ygfLB8wHzQfOB88H0AfRB9IH0wfUB9UH1gfXB9gH2QfaB9sH3AfdB94H3wfgB+EH4gfjB+QH5QfmB+cH",
          "dtype": "i2"
         },
         "xaxis": "x",
         "y": {
          "bdata": "mpmZmZmZmT8ZBFYOLbK9P0w3iUFg5cA/arx0kxgExj+DwMqhRbbDPyuHFtnO98M/nu+nxks3yT8Sg8DKoUXGP+XQItv5fso/okW28/3UyD+uR+F6FK7HP1K4HoXrUcg/UrgehetRyD/+1HjpJjHIP65H4XoUrsc/9ihcj8L1yD8AAAAAAAAEQB1aZDvfT80/zczMzMzMzD/2KFyPwvXQP05iEFg5tNA//tR46SYx0D9CYOXQItvRP4/C9Shcj9I/gZVDi2zn0z8/NV66SQzSPzvfT42XbtI/L90kBoGV0z83iUFg5dDSPzEIrBxaZNM/",
          "dtype": "f8"
         },
         "yaxis": "y"
        },
        {
         "hovertemplate": "region=Oceania<br>Year=%{x}<br>CO2 Emissions per Capita=%{y}<extra></extra>",
         "legendgroup": "Oceania",
         "line": {
          "color": "#FFA15A",
          "dash": "solid"
         },
         "marker": {
          "symbol": "circle"
         },
         "mode": "lines",
         "name": "Oceania",
         "orientation": "v",
         "showlegend": true,
         "type": "scatter",
         "x": {
          "bdata": "ygfLB8wHzQfOB88H0AfRB9IH0wfUB9UH1gfXB9gH2QfaB9sH3AfdB94H3wfgB+EH4gfjB+QH5QfmB+cH",
          "dtype": "i2"
         },
         "xaxis": "x",
         "y": {
          "bdata": "N4lBYOXQHkB7FK5H4XoeQCGwcmiRbR9Aj8L1KFyPIECiRbbz/VQfQIGVQ4tsZyBAnu+nxku3IEBeukkMAqshQJZDi2zneyFAhetRuB4FIkDNzMzMzIwhQCcxCKwcGiJAJzEIrBzaIUDLoUW28z0hQCcxCKwcmiFAvHSTGAQWIEBQjZduEgMgQBKDwMqhRR9AJQaBlUNLIEDZzvdT46UfQLx0kxgEVh9A8KfGSzcJH0ArhxbZzvccQClcj8L1qB1ApHA9CtcjHUCmm8QgsHIdQPLSTWIQ2BpA4XoUrkfhGkCkcD0K16MYQJhuEoPAShdA",
          "dtype": "f8"
         },
         "yaxis": "y"
        },
        {
         "hovertemplate": "region=Other<br>Year=%{x}<br>CO2 Emissions per Capita=%{y}<extra></extra>",
         "legendgroup": "Other",
         "line": {
          "color": "#19d3f3",
          "dash": "solid"
         },
         "marker": {
          "symbol": "circle"
         },
         "mode": "lines",
         "name": "Other",
         "orientation": "v",
         "showlegend": true,
         "type": "scatter",
         "x": {
          "bdata": "ygfLB8wHzQfOB88H0AfRB9IH0wfUB9UH1gfXB9gH2QfaB9sH3AfdB94H3wfgB+EH4gfjB+QH5QfmB+cH",
          "dtype": "i2"
         },
         "xaxis": "x",
         "y": {
          "bdata": "2/l+arx02z8Sg8DKoUXeP6jGSzeJQeA/zczMzMzM4D+amZmZmZnhPyPb+X5qvOQ/9ihcj8L15D/+1HjpJjHoP+kmMQisHOo/AAAAAAAA7D/8qfHSTWLsP0a28/3UeO0/VOOlm8Qg8D/n+6nx0k3wP+xRuB6F6+0/ppvEILBy8D9GtvP91HjxP90kBoGVQ/M/XI/C9Shc7z+28/3UeOnuPzvfT42Xbu4/Di2yne+n7j9OYhBYObTwP8HKoUW28/E/AiuHFtnO8T8EVg4tsp3zP6rx0k1iEPA/tvP91Hjp8D9KDAIrhxbxP/yp8dJNYvA/",
          "dtype": "f8"
         },
         "yaxis": "y"
        },
        {
         "hovertemplate": "region=South America<br>Year=%{x}<br>CO2 Emissions per Capita=%{y}<extra></extra>",
         "legendgroup": "South America",
         "line": {
          "color": "#FF6692",
          "dash": "solid"
         },
         "marker": {
          "symbol": "circle"
         },
         "mode": "lines",
         "name": "South America",
         "orientation": "v",
         "showlegend": true,
         "type": "scatter",
         "x": {
          "bdata": "ygfLB8wHzQfOB88H0AfRB9IH0wfUB9UH1gfXB9gH2QfaB9sH3AfdB94H3wfgB+EH4gfjB+QH5QfmB+cH",
          "dtype": "i2"
         },
         "xaxis": "x",
         "y": {
          "bdata": "JzEIrBxa6D+F61G4HoXrP8dLN4lBYOk/WmQ730+N6z9CYOXQItv7PwAAAAAAAOw/ObTIdr6f5j9iEFg5tMjmP9v5fmq8dOc/001iEFg56D9U46WbxCDoP2iR7Xw/NeY/uB6F61G45j/dJAaBlUPnP/yp8dJNYug/xSCwcmiR6T8AAAAAAADsP8/3U+Olm+w/qvHSTWIQ7D+uR+F6FK7rP/hT46WbxOw/BoGVQ4ts7z/RItv5fmryP2q8dJMYBPQ/tvP91Hjp9D8rhxbZzvfzP6wcWmQ73/E/Rrbz/dR48z/Jdr6fGi/zP6AaL90kBvM/",
          "dtype": "f8"
         },
         "yaxis": "y"
        }
       ],
       "layout": {
        "legend": {
         "title": {
          "text": "region"
         },
         "tracegroupgap": 0
        },
        "template": {
         "data": {
          "bar": [
           {
            "error_x": {
             "color": "#2a3f5f"
            },
            "error_y": {
             "color": "#2a3f5f"
            },
            "marker": {
             "line": {
              "color": "#E5ECF6",
              "width": 0.5
             },
             "pattern": {
              "fillmode": "overlay",
              "size": 10,
              "solidity": 0.2
             }
            },
            "type": "bar"
           }
          ],
          "barpolar": [
           {
            "marker": {
             "line": {
              "color": "#E5ECF6",
              "width": 0.5
             },
             "pattern": {
              "fillmode": "overlay",
              "size": 10,
              "solidity": 0.2
             }
            },
            "type": "barpolar"
           }
          ],
          "carpet": [
           {
            "aaxis": {
             "endlinecolor": "#2a3f5f",
             "gridcolor": "white",
             "linecolor": "white",
             "minorgridcolor": "white",
             "startlinecolor": "#2a3f5f"
            },
            "baxis": {
             "endlinecolor": "#2a3f5f",
             "gridcolor": "white",
             "linecolor": "white",
             "minorgridcolor": "white",
             "startlinecolor": "#2a3f5f"
            },
            "type": "carpet"
           }
          ],
          "choropleth": [
           {
            "colorbar": {
             "outlinewidth": 0,
             "ticks": ""
            },
            "type": "choropleth"
           }
          ],
          "contour": [
           {
            "colorbar": {
             "outlinewidth": 0,
             "ticks": ""
            },
            "colorscale": [
             [
              0,
              "#0d0887"
             ],
             [
              0.1111111111111111,
              "#46039f"
             ],
             [
              0.2222222222222222,
              "#7201a8"
             ],
             [
              0.3333333333333333,
              "#9c179e"
             ],
             [
              0.4444444444444444,
              "#bd3786"
             ],
             [
              0.5555555555555556,
              "#d8576b"
             ],
             [
              0.6666666666666666,
              "#ed7953"
             ],
             [
              0.7777777777777778,
              "#fb9f3a"
             ],
             [
              0.8888888888888888,
              "#fdca26"
             ],
             [
              1,
              "#f0f921"
             ]
            ],
            "type": "contour"
           }
          ],
          "contourcarpet": [
           {
            "colorbar": {
             "outlinewidth": 0,
             "ticks": ""
            },
            "type": "contourcarpet"
           }
          ],
          "heatmap": [
           {
            "colorbar": {
             "outlinewidth": 0,
             "ticks": ""
            },
            "colorscale": [
             [
              0,
              "#0d0887"
             ],
             [
              0.1111111111111111,
              "#46039f"
             ],
             [
              0.2222222222222222,
              "#7201a8"
             ],
             [
              0.3333333333333333,
              "#9c179e"
             ],
             [
              0.4444444444444444,
              "#bd3786"
             ],
             [
              0.5555555555555556,
              "#d8576b"
             ],
             [
              0.6666666666666666,
              "#ed7953"
             ],
             [
              0.7777777777777778,
              "#fb9f3a"
             ],
             [
              0.8888888888888888,
              "#fdca26"
             ],
             [
              1,
              "#f0f921"
             ]
            ],
            "type": "heatmap"
           }
          ],
          "histogram": [
           {
            "marker": {
             "pattern": {
              "fillmode": "overlay",
              "size": 10,
              "solidity": 0.2
             }
            },
            "type": "histogram"
           }
          ],
          "histogram2d": [
           {
            "colorbar": {
             "outlinewidth": 0,
             "ticks": ""
            },
            "colorscale": [
             [
              0,
              "#0d0887"
             ],
             [
              0.1111111111111111,
              "#46039f"
             ],
             [
              0.2222222222222222,
              "#7201a8"
             ],
             [
              0.3333333333333333,
              "#9c179e"
             ],
             [
              0.4444444444444444,
              "#bd3786"
             ],
             [
              0.5555555555555556,
              "#d8576b"
             ],
             [
              0.6666666666666666,
              "#ed7953"
             ],
             [
              0.7777777777777778,
              "#fb9f3a"
             ],
             [
              0.8888888888888888,
              "#fdca26"
             ],
             [
              1,
              "#f0f921"
             ]
            ],
            "type": "histogram2d"
           }
          ],
          "histogram2dcontour": [
           {
            "colorbar": {
             "outlinewidth": 0,
             "ticks": ""
            },
            "colorscale": [
             [
              0,
              "#0d0887"
             ],
             [
              0.1111111111111111,
              "#46039f"
             ],
             [
              0.2222222222222222,
              "#7201a8"
             ],
             [
              0.3333333333333333,
              "#9c179e"
             ],
             [
              0.4444444444444444,
              "#bd3786"
             ],
             [
              0.5555555555555556,
              "#d8576b"
             ],
             [
              0.6666666666666666,
              "#ed7953"
             ],
             [
              0.7777777777777778,
              "#fb9f3a"
             ],
             [
              0.8888888888888888,
              "#fdca26"
             ],
             [
              1,
              "#f0f921"
             ]
            ],
            "type": "histogram2dcontour"
           }
          ],
          "mesh3d": [
           {
            "colorbar": {
             "outlinewidth": 0,
             "ticks": ""
            },
            "type": "mesh3d"
           }
          ],
          "parcoords": [
           {
            "line": {
             "colorbar": {
              "outlinewidth": 0,
              "ticks": ""
             }
            },
            "type": "parcoords"
           }
          ],
          "pie": [
           {
            "automargin": true,
            "type": "pie"
           }
          ],
          "scatter": [
           {
            "fillpattern": {
             "fillmode": "overlay",
             "size": 10,
             "solidity": 0.2
            },
            "type": "scatter"
           }
          ],
          "scatter3d": [
           {
            "line": {
             "colorbar": {
              "outlinewidth": 0,
              "ticks": ""
             }
            },
            "marker": {
             "colorbar": {
              "outlinewidth": 0,
              "ticks": ""
             }
            },
            "type": "scatter3d"
           }
          ],
          "scattercarpet": [
           {
            "marker": {
             "colorbar": {
              "outlinewidth": 0,
              "ticks": ""
             }
            },
            "type": "scattercarpet"
           }
          ],
          "scattergeo": [
           {
            "marker": {
             "colorbar": {
              "outlinewidth": 0,
              "ticks": ""
             }
            },
            "type": "scattergeo"
           }
          ],
          "scattergl": [
           {
            "marker": {
             "colorbar": {
              "outlinewidth": 0,
              "ticks": ""
             }
            },
            "type": "scattergl"
           }
          ],
          "scattermap": [
           {
            "marker": {
             "colorbar": {
              "outlinewidth": 0,
              "ticks": ""
             }
            },
            "type": "scattermap"
           }
          ],
          "scattermapbox": [
           {
            "marker": {
             "colorbar": {
              "outlinewidth": 0,
              "ticks": ""
             }
            },
            "type": "scattermapbox"
           }
          ],
          "scatterpolar": [
           {
            "marker": {
             "colorbar": {
              "outlinewidth": 0,
              "ticks": ""
             }
            },
            "type": "scatterpolar"
           }
          ],
          "scatterpolargl": [
           {
            "marker": {
             "colorbar": {
              "outlinewidth": 0,
              "ticks": ""
             }
            },
            "type": "scatterpolargl"
           }
          ],
          "scatterternary": [
           {
            "marker": {
             "colorbar": {
              "outlinewidth": 0,
              "ticks": ""
             }
            },
            "type": "scatterternary"
           }
          ],
          "surface": [
           {
            "colorbar": {
             "outlinewidth": 0,
             "ticks": ""
            },
            "colorscale": [
             [
              0,
              "#0d0887"
             ],
             [
              0.1111111111111111,
              "#46039f"
             ],
             [
              0.2222222222222222,
              "#7201a8"
             ],
             [
              0.3333333333333333,
              "#9c179e"
             ],
             [
              0.4444444444444444,
              "#bd3786"
             ],
             [
              0.5555555555555556,
              "#d8576b"
             ],
             [
              0.6666666666666666,
              "#ed7953"
             ],
             [
              0.7777777777777778,
              "#fb9f3a"
             ],
             [
              0.8888888888888888,
              "#fdca26"
             ],
             [
              1,
              "#f0f921"
             ]
            ],
            "type": "surface"
           }
          ],
          "table": [
           {
            "cells": {
             "fill": {
              "color": "#EBF0F8"
             },
             "line": {
              "color": "white"
             }
            },
            "header": {
             "fill": {
              "color": "#C8D4E3"
             },
             "line": {
              "color": "white"
             }
            },
            "type": "table"
           }
          ]
         },
         "layout": {
          "annotationdefaults": {
           "arrowcolor": "#2a3f5f",
           "arrowhead": 0,
           "arrowwidth": 1
          },
          "autotypenumbers": "strict",
          "coloraxis": {
           "colorbar": {
            "outlinewidth": 0,
            "ticks": ""
           }
          },
          "colorscale": {
           "diverging": [
            [
             0,
             "#8e0152"
            ],
            [
             0.1,
             "#c51b7d"
            ],
            [
             0.2,
             "#de77ae"
            ],
            [
             0.3,
             "#f1b6da"
            ],
            [
             0.4,
             "#fde0ef"
            ],
            [
             0.5,
             "#f7f7f7"
            ],
            [
             0.6,
             "#e6f5d0"
            ],
            [
             0.7,
             "#b8e186"
            ],
            [
             0.8,
             "#7fbc41"
            ],
            [
             0.9,
             "#4d9221"
            ],
            [
             1,
             "#276419"
            ]
           ],
           "sequential": [
            [
             0,
             "#0d0887"
            ],
            [
             0.1111111111111111,
             "#46039f"
            ],
            [
             0.2222222222222222,
             "#7201a8"
            ],
            [
             0.3333333333333333,
             "#9c179e"
            ],
            [
             0.4444444444444444,
             "#bd3786"
            ],
            [
             0.5555555555555556,
             "#d8576b"
            ],
            [
             0.6666666666666666,
             "#ed7953"
            ],
            [
             0.7777777777777778,
             "#fb9f3a"
            ],
            [
             0.8888888888888888,
             "#fdca26"
            ],
            [
             1,
             "#f0f921"
            ]
           ],
           "sequentialminus": [
            [
             0,
             "#0d0887"
            ],
            [
             0.1111111111111111,
             "#46039f"
            ],
            [
             0.2222222222222222,
             "#7201a8"
            ],
            [
             0.3333333333333333,
             "#9c179e"
            ],
            [
             0.4444444444444444,
             "#bd3786"
            ],
            [
             0.5555555555555556,
             "#d8576b"
            ],
            [
             0.6666666666666666,
             "#ed7953"
            ],
            [
             0.7777777777777778,
             "#fb9f3a"
            ],
            [
             0.8888888888888888,
             "#fdca26"
            ],
            [
             1,
             "#f0f921"
            ]
           ]
          },
          "colorway": [
           "#636efa",
           "#EF553B",
           "#00cc96",
           "#ab63fa",
           "#FFA15A",
           "#19d3f3",
           "#FF6692",
           "#B6E880",
           "#FF97FF",
           "#FECB52"
          ],
          "font": {
           "color": "#2a3f5f"
          },
          "geo": {
           "bgcolor": "white",
           "lakecolor": "white",
           "landcolor": "#E5ECF6",
           "showlakes": true,
           "showland": true,
           "subunitcolor": "white"
          },
          "hoverlabel": {
           "align": "left"
          },
          "hovermode": "closest",
          "mapbox": {
           "style": "light"
          },
          "paper_bgcolor": "white",
          "plot_bgcolor": "#E5ECF6",
          "polar": {
           "angularaxis": {
            "gridcolor": "white",
            "linecolor": "white",
            "ticks": ""
           },
           "bgcolor": "#E5ECF6",
           "radialaxis": {
            "gridcolor": "white",
            "linecolor": "white",
            "ticks": ""
           }
          },
          "scene": {
           "xaxis": {
            "backgroundcolor": "#E5ECF6",
            "gridcolor": "white",
            "gridwidth": 2,
            "linecolor": "white",
            "showbackground": true,
            "ticks": "",
            "zerolinecolor": "white"
           },
           "yaxis": {
            "backgroundcolor": "#E5ECF6",
            "gridcolor": "white",
            "gridwidth": 2,
            "linecolor": "white",
            "showbackground": true,
            "ticks": "",
            "zerolinecolor": "white"
           },
           "zaxis": {
            "backgroundcolor": "#E5ECF6",
            "gridcolor": "white",
            "gridwidth": 2,
            "linecolor": "white",
            "showbackground": true,
            "ticks": "",
            "zerolinecolor": "white"
           }
          },
          "shapedefaults": {
           "line": {
            "color": "#2a3f5f"
           }
          },
          "ternary": {
           "aaxis": {
            "gridcolor": "white",
            "linecolor": "white",
            "ticks": ""
           },
           "baxis": {
            "gridcolor": "white",
            "linecolor": "white",
            "ticks": ""
           },
           "bgcolor": "#E5ECF6",
           "caxis": {
            "gridcolor": "white",
            "linecolor": "white",
            "ticks": ""
           }
          },
          "title": {
           "x": 0.05
          },
          "xaxis": {
           "automargin": true,
           "gridcolor": "white",
           "linecolor": "white",
           "ticks": "",
           "title": {
            "standoff": 15
           },
           "zerolinecolor": "white",
           "zerolinewidth": 2
          },
          "yaxis": {
           "automargin": true,
           "gridcolor": "white",
           "linecolor": "white",
           "ticks": "",
           "title": {
            "standoff": 15
           },
           "zerolinecolor": "white",
           "zerolinewidth": 2
          }
         }
        },
        "title": {
         "text": "CO2 Emissions per Capita Over Time"
        },
        "xaxis": {
         "anchor": "y",
         "domain": [
          0,
          1
         ],
         "title": {
          "text": "Year"
         }
        },
        "yaxis": {
         "anchor": "x",
         "domain": [
          0,
          1
         ],
         "title": {
          "text": "CO2 Emissions per Capita"
         }
        }
       }
      }
     },
     "metadata": {},
     "output_type": "display_data"
    },
    {
     "data": {
      "application/vnd.plotly.v1+json": {
       "config": {
        "plotlyServerURL": "https://plot.ly"
       },
       "data": [
        {
         "hovertemplate": "region=Africa<br>Year=%{x}<br>CO2 Emissions per Capita=%{y}<extra></extra>",
         "legendgroup": "Africa",
         "line": {
          "color": "#636efa",
          "dash": "solid"
         },
         "marker": {
          "symbol": "circle"
         },
         "mode": "lines",
         "name": "Africa",
         "orientation": "v",
         "showlegend": true,
         "type": "scatter",
         "x": {
          "bdata": "ygfLB8wHzQfOB88H0AfRB9IH0wfUB9UH1gfXB9gH2QfaB9sH3AfdB94H3wfgB+EH4gfjB+QH5QfmB+cH",
          "dtype": "i2"
         },
         "xaxis": "x",
         "y": {
          "bdata": "2zuqOBMN/z/CNyTGxFEAQHw90w4PPQBAUs1j280DAEB9tdxtayYAQJ5bv5hCJ/8/rj2sYkDb/z+S6TGjoar/P030Tor2U/4/g5VqN2IJAEAkyUSQ2YMBQFHhDqqmyQBABjInu7d5AEABPrxUdrb+P6psT48hIgBA5nkXxRgD/z/NLyKKjEMAQIY4c47G+P4/M5/rsDqKAEAp7kmpvwz/P78urB36OQFArAOXXuLa/z+yOD4qoaD/P1o33ztbYQBAkQ5FVRh5/z9XJUjuHKIAQCycGi5IiPg/50UVIeHm+z/hAX0jVSP7Pw+IGo8aMPs/",
          "dtype": "f8"
         },
         "yaxis": "y"
        },
        {
         "hovertemplate": "region=Asia<br>Year=%{x}<br>CO2 Emissions per Capita=%{y}<extra></extra>",
         "legendgroup": "Asia",
         "line": {
          "color": "#EF553B",
          "dash": "solid"
         },
         "marker": {
          "symbol": "circle"
         },
         "mode": "lines",
         "name": "Asia",
         "orientation": "v",
         "showlegend": true,
         "type": "scatter",
         "x": {
          "bdata": "ygfLB8wHzQfOB88H0AfRB9IH0wfUB9UH1gfXB9gH2QfaB9sH3AfdB94H3wfgB+EH4gfjB+QH5QfmB+cH",
          "dtype": "i2"
         },
         "xaxis": "x",
         "y": {
          "bdata": "2OxocOw1KEDOBH9KyoYnQB4Ipsy7UCdAZyZluMrLKUDDrN/OqmUmQEH/3pEpNiVAYaIq89POJkCP4qGlU5cnQIbNO2iRISZAUk6oOH0vJkCXBi/Q0uIlQAxcOxqIdCVAQJKPT38iJkDdzcO+wW4jQA34WMZ9qCJARap8XxMAIkC5qFBg7LQiQKp20rvxryJAwuXx5La8I0BEVJElarohQATQBUA2ACFAbY5e5uu/IEB/cthbNQ4gQMv61unpCiBAIoOAfIKBH0DhZDJgcFEgQN228+bSlB9AtMnq71UCIECp08jVGZcfQGJUAI2S+R9A",
          "dtype": "f8"
         },
         "yaxis": "y"
        },
        {
         "hovertemplate": "region=Europe<br>Year=%{x}<br>CO2 Emissions per Capita=%{y}<extra></extra>",
         "legendgroup": "Europe",
         "line": {
          "color": "#00cc96",
          "dash": "solid"
         },
         "marker": {
          "symbol": "circle"
         },
         "mode": "lines",
         "name": "Europe",
         "orientation": "v",
         "showlegend": true,
         "type": "scatter",
         "x": {
          "bdata": "ygfLB8wHzQfOB88H0AfRB9IH0wfUB9UH1gfXB9gH2QfaB9sH3AfdB94H3wfgB+EH4gfjB+QH5QfmB+cH",
          "dtype": "i2"
         },
         "xaxis": "x",
         "y": {
          "bdata": "sHjaM+TZEkCLpWjuoawPQP2qJgr2URBACubhgOhfDkCI+q6el90LQAHcFWa0eQxAnYJrHXVzDUDZm2TqeDMOQDdhRq7p+Q5Ab76jzaAQEEAoHVo6XvkQQKtZ3CxGwxBAt0nrtIF3EECBWQuYU+IPQMJA6GvGMQ5AWzN7lTpBDECxmE4Pee8NQGO+CM3qbAxALZiJy2RbC0DGW0O4SQgLQEdgjuzmdglALHs+9U/wB0D/4g1O0BIIQL23Yh/UDAhAJZ/FrDarB0CMShS4850FQNB6PD5nmgJASKYhwZ9rA0AQv8IuCckCQP8uIVtKoAFA",
          "dtype": "f8"
         },
         "yaxis": "y"
        },
        {
         "hovertemplate": "region=North America<br>Year=%{x}<br>CO2 Emissions per Capita=%{y}<extra></extra>",
         "legendgroup": "North America",
         "line": {
          "color": "#ab63fa",
          "dash": "solid"
         },
         "marker": {
          "symbol": "circle"
         },
         "mode": "lines",
         "name": "North America",
         "orientation": "v",
         "showlegend": true,
         "type": "scatter",
         "x": {
          "bdata": "ygfLB8wHzQfOB88H0AfRB9IH0wfUB9UH1gfXB9gH2QfaB9sH3AfdB94H3wfgB+EH4gfjB+QH5QfmB+cH",
          "dtype": "i2"
         },
         "xaxis": "x",
         "y": {
          "bdata": "mM5F8IUDGEDTH0Pd0uUXQDrW1C+6WhlA+v3gYDORGUC7P9Ig0MUZQB3kDpOn0xpA3oiAAMnqG0ADXEsb7y0cQPD2bEir5hxAXdAUC2uKHkBRoJbJZJweQJ5Du9MOeCBA52Ml03RlIUDHwBXwjjAiQCrTosGGjCFAOyzJMP4GIUBcssERAs0hQBOAFA/3nCFAEyMyvnEgIUBdTB8vWvsgQN7A+GasLSFAd87JrOyQIEBq/O9yM6UdQHpLdyshyB1AuhyeqtSNHUDGmo3F/zQdQI+UlkRyjxlAyl6858NbGkDMe96HzkoaQOqGTCw+zBhA",
          "dtype": "f8"
         },
         "yaxis": "y"
        },
        {
         "hovertemplate": "region=Oceania<br>Year=%{x}<br>CO2 Emissions per Capita=%{y}<extra></extra>",
         "legendgroup": "Oceania",
         "line": {
          "color": "#FFA15A",
          "dash": "solid"
         },
         "marker": {
          "symbol": "circle"
         },
         "mode": "lines",
         "name": "Oceania",
         "orientation": "v",
         "showlegend": true,
         "type": "scatter",
         "x": {
          "bdata": "ygfLB8wHzQfOB88H0AfRB9IH0wfUB9UH1gfXB9gH2QfaB9sH3AfdB94H3wfgB+EH4gfjB+QH5QfmB+cH",
          "dtype": "i2"
         },
         "xaxis": "x",
         "y": {
          "bdata": "fCpDPtGfGEBwHevIBiEaQMMevyPt+RlAhSJteiSLGUDrCaNeZGEcQBELZUVcPxxAUgyft24aHECPE3Fl1EQbQKkQHVNFmhtAkxNPCBtEG0B0AgP3gj0dQEkLM//XOBxAlgdB7i2mHEDj//QpiokdQDwHHQZRsBxA6PrqA4ccHkCdA8XdehsdQCYHpXo2sxxA3RO3qmo7G0DZHBuEZzIaQO4nExQf6xhAICMbYgp5GUDrE3Pw9zkbQHobi+PzWhpA7By1bDswGkBmJDN3Y1MZQEwoFZ9C4BhAQTX1iPJhF0BJLzvw5REYQLwrfbDjehhA",
          "dtype": "f8"
         },
         "yaxis": "y"
        },
        {
         "hovertemplate": "region=Other<br>Year=%{x}<br>CO2 Emissions per Capita=%{y}<extra></extra>",
         "legendgroup": "Other",
         "line": {
          "color": "#19d3f3",
          "dash": "solid"
         },
         "marker": {
          "symbol": "circle"
         },
         "mode": "lines",
         "name": "Other",
         "orientation": "v",
         "showlegend": true,
         "type": "scatter",
         "x": {
          "bdata": "ygfLB8wHzQfOB88H0AfRB9IH0wfUB9UH1gfXB9gH2QfaB9sH3AfdB94H3wfgB+EH4gfjB+QH5QfmB+cH",
          "dtype": "i2"
         },
         "xaxis": "x",
         "y": {
          "bdata": "uxhrogysCkDpHvP0lPUJQOw3e+EFEwdAnjAPS8zqB0Az9mrdjKcOQCxyDdtWWxBAb/ni1/hHDkBhE1/x5UkLQCAMr6A5IAxA9PW+gMquDkB9A2+vGR8NQLD2wpYRmQ5A1gh7YECBDEBr/3oTTJcNQOYCn2p6MA1AtxFnriJ7C0DeIFPap7sJQL8S02a5XAtA6Axv/A0JDEA7BHPFYAkNQMz9PhYWxw1AqBR3Bj8kC0ARFKfBnzULQH8fwzk05AlA6B7z9JT1CUCaKQtX4rkIQOVVL1EzngNA4FbfwzyBA0A/ZQuU7dgBQABT2z6k8wNA",
          "dtype": "f8"
         },
         "yaxis": "y"
        },
        {
         "hovertemplate": "region=South America<br>Year=%{x}<br>CO2 Emissions per Capita=%{y}<extra></extra>",
         "legendgroup": "South America",
         "line": {
          "color": "#FF6692",
          "dash": "solid"
         },
         "marker": {
          "symbol": "circle"
         },
         "mode": "lines",
         "name": "South America",
         "orientation": "v",
         "showlegend": true,
         "type": "scatter",
         "x": {
          "bdata": "ygfLB8wHzQfOB88H0AfRB9IH0wfUB9UH1gfXB9gH2QfaB9sH3AfdB94H3wfgB+EH4gfjB+QH5QfmB+cH",
          "dtype": "i2"
         },
         "xaxis": "x",
         "y": {
          "bdata": "R/ZOBN8j9z+WSrmSwIv3P/C7wsM5W/Y/rAwLuS9X+D+xahxMOLL4P2Y9fVJ/efo/XPlwxato+j/fS5+lOjT3P6I8FwWwxfs/3xGIDg3c+T9t5IkzYaL4P3q4/YCCBvk/4AbUbjJm+j/FZWTLqBP6P/99yBKHC/o/HfP4SxnQ9z/iRW3NpJD8Pwfcy7Kv5vk/hdkUlF8R+j/4lRBmc5X8P0FPNrT7gfg/aTxEoUOM9z+ElK7nr831P0sWkdcDQ/Q/Su4+fCOr8T/ejABvtlvyP+5Z9m2Mt+8/uHTYH0C38D+n3Fwp7GTxP7MMeiwHW/A/",
          "dtype": "f8"
         },
         "yaxis": "y"
        }
       ],
       "layout": {
        "legend": {
         "title": {
          "text": "region"
         },
         "tracegroupgap": 0
        },
        "template": {
         "data": {
          "bar": [
           {
            "error_x": {
             "color": "#2a3f5f"
            },
            "error_y": {
             "color": "#2a3f5f"
            },
            "marker": {
             "line": {
              "color": "#E5ECF6",
              "width": 0.5
             },
             "pattern": {
              "fillmode": "overlay",
              "size": 10,
              "solidity": 0.2
             }
            },
            "type": "bar"
           }
          ],
          "barpolar": [
           {
            "marker": {
             "line": {
              "color": "#E5ECF6",
              "width": 0.5
             },
             "pattern": {
              "fillmode": "overlay",
              "size": 10,
              "solidity": 0.2
             }
            },
            "type": "barpolar"
           }
          ],
          "carpet": [
           {
            "aaxis": {
             "endlinecolor": "#2a3f5f",
             "gridcolor": "white",
             "linecolor": "white",
             "minorgridcolor": "white",
             "startlinecolor": "#2a3f5f"
            },
            "baxis": {
             "endlinecolor": "#2a3f5f",
             "gridcolor": "white",
             "linecolor": "white",
             "minorgridcolor": "white",
             "startlinecolor": "#2a3f5f"
            },
            "type": "carpet"
           }
          ],
          "choropleth": [
           {
            "colorbar": {
             "outlinewidth": 0,
             "ticks": ""
            },
            "type": "choropleth"
           }
          ],
          "contour": [
           {
            "colorbar": {
             "outlinewidth": 0,
             "ticks": ""
            },
            "colorscale": [
             [
              0,
              "#0d0887"
             ],
             [
              0.1111111111111111,
              "#46039f"
             ],
             [
              0.2222222222222222,
              "#7201a8"
             ],
             [
              0.3333333333333333,
              "#9c179e"
             ],
             [
              0.4444444444444444,
              "#bd3786"
             ],
             [
              0.5555555555555556,
              "#d8576b"
             ],
             [
              0.6666666666666666,
              "#ed7953"
             ],
             [
              0.7777777777777778,
              "#fb9f3a"
             ],
             [
              0.8888888888888888,
              "#fdca26"
             ],
             [
              1,
              "#f0f921"
             ]
            ],
            "type": "contour"
           }
          ],
          "contourcarpet": [
           {
            "colorbar": {
             "outlinewidth": 0,
             "ticks": ""
            },
            "type": "contourcarpet"
           }
          ],
          "heatmap": [
           {
            "colorbar": {
             "outlinewidth": 0,
             "ticks": ""
            },
            "colorscale": [
             [
              0,
              "#0d0887"
             ],
             [
              0.1111111111111111,
              "#46039f"
             ],
             [
              0.2222222222222222,
              "#7201a8"
             ],
             [
              0.3333333333333333,
              "#9c179e"
             ],
             [
              0.4444444444444444,
              "#bd3786"
             ],
             [
              0.5555555555555556,
              "#d8576b"
             ],
             [
              0.6666666666666666,
              "#ed7953"
             ],
             [
              0.7777777777777778,
              "#fb9f3a"
             ],
             [
              0.8888888888888888,
              "#fdca26"
             ],
             [
              1,
              "#f0f921"
             ]
            ],
            "type": "heatmap"
           }
          ],
          "histogram": [
           {
            "marker": {
             "pattern": {
              "fillmode": "overlay",
              "size": 10,
              "solidity": 0.2
             }
            },
            "type": "histogram"
           }
          ],
          "histogram2d": [
           {
            "colorbar": {
             "outlinewidth": 0,
             "ticks": ""
            },
            "colorscale": [
             [
              0,
              "#0d0887"
             ],
             [
              0.1111111111111111,
              "#46039f"
             ],
             [
              0.2222222222222222,
              "#7201a8"
             ],
             [
              0.3333333333333333,
              "#9c179e"
             ],
             [
              0.4444444444444444,
              "#bd3786"
             ],
             [
              0.5555555555555556,
              "#d8576b"
             ],
             [
              0.6666666666666666,
              "#ed7953"
             ],
             [
              0.7777777777777778,
              "#fb9f3a"
             ],
             [
              0.8888888888888888,
              "#fdca26"
             ],
             [
              1,
              "#f0f921"
             ]
            ],
            "type": "histogram2d"
           }
          ],
          "histogram2dcontour": [
           {
            "colorbar": {
             "outlinewidth": 0,
             "ticks": ""
            },
            "colorscale": [
             [
              0,
              "#0d0887"
             ],
             [
              0.1111111111111111,
              "#46039f"
             ],
             [
              0.2222222222222222,
              "#7201a8"
             ],
             [
              0.3333333333333333,
              "#9c179e"
             ],
             [
              0.4444444444444444,
              "#bd3786"
             ],
             [
              0.5555555555555556,
              "#d8576b"
             ],
             [
              0.6666666666666666,
              "#ed7953"
             ],
             [
              0.7777777777777778,
              "#fb9f3a"
             ],
             [
              0.8888888888888888,
              "#fdca26"
             ],
             [
              1,
              "#f0f921"
             ]
            ],
            "type": "histogram2dcontour"
           }
          ],
          "mesh3d": [
           {
            "colorbar": {
             "outlinewidth": 0,
             "ticks": ""
            },
            "type": "mesh3d"
           }
          ],
          "parcoords": [
           {
            "line": {
             "colorbar": {
              "outlinewidth": 0,
              "ticks": ""
             }
            },
            "type": "parcoords"
           }
          ],
          "pie": [
           {
            "automargin": true,
            "type": "pie"
           }
          ],
          "scatter": [
           {
            "fillpattern": {
             "fillmode": "overlay",
             "size": 10,
             "solidity": 0.2
            },
            "type": "scatter"
           }
          ],
          "scatter3d": [
           {
            "line": {
             "colorbar": {
              "outlinewidth": 0,
              "ticks": ""
             }
            },
            "marker": {
             "colorbar": {
              "outlinewidth": 0,
              "ticks": ""
             }
            },
            "type": "scatter3d"
           }
          ],
          "scattercarpet": [
           {
            "marker": {
             "colorbar": {
              "outlinewidth": 0,
              "ticks": ""
             }
            },
            "type": "scattercarpet"
           }
          ],
          "scattergeo": [
           {
            "marker": {
             "colorbar": {
              "outlinewidth": 0,
              "ticks": ""
             }
            },
            "type": "scattergeo"
           }
          ],
          "scattergl": [
           {
            "marker": {
             "colorbar": {
              "outlinewidth": 0,
              "ticks": ""
             }
            },
            "type": "scattergl"
           }
          ],
          "scattermap": [
           {
            "marker": {
             "colorbar": {
              "outlinewidth": 0,
              "ticks": ""
             }
            },
            "type": "scattermap"
           }
          ],
          "scattermapbox": [
           {
            "marker": {
             "colorbar": {
              "outlinewidth": 0,
              "ticks": ""
             }
            },
            "type": "scattermapbox"
           }
          ],
          "scatterpolar": [
           {
            "marker": {
             "colorbar": {
              "outlinewidth": 0,
              "ticks": ""
             }
            },
            "type": "scatterpolar"
           }
          ],
          "scatterpolargl": [
           {
            "marker": {
             "colorbar": {
              "outlinewidth": 0,
              "ticks": ""
             }
            },
            "type": "scatterpolargl"
           }
          ],
          "scatterternary": [
           {
            "marker": {
             "colorbar": {
              "outlinewidth": 0,
              "ticks": ""
             }
            },
            "type": "scatterternary"
           }
          ],
          "surface": [
           {
            "colorbar": {
             "outlinewidth": 0,
             "ticks": ""
            },
            "colorscale": [
             [
              0,
              "#0d0887"
             ],
             [
              0.1111111111111111,
              "#46039f"
             ],
             [
              0.2222222222222222,
              "#7201a8"
             ],
             [
              0.3333333333333333,
              "#9c179e"
             ],
             [
              0.4444444444444444,
              "#bd3786"
             ],
             [
              0.5555555555555556,
              "#d8576b"
             ],
             [
              0.6666666666666666,
              "#ed7953"
             ],
             [
              0.7777777777777778,
              "#fb9f3a"
             ],
             [
              0.8888888888888888,
              "#fdca26"
             ],
             [
              1,
              "#f0f921"
             ]
            ],
            "type": "surface"
           }
          ],
          "table": [
           {
            "cells": {
             "fill": {
              "color": "#EBF0F8"
             },
             "line": {
              "color": "white"
             }
            },
            "header": {
             "fill": {
              "color": "#C8D4E3"
             },
             "line": {
              "color": "white"
             }
            },
            "type": "table"
           }
          ]
         },
         "layout": {
          "annotationdefaults": {
           "arrowcolor": "#2a3f5f",
           "arrowhead": 0,
           "arrowwidth": 1
          },
          "autotypenumbers": "strict",
          "coloraxis": {
           "colorbar": {
            "outlinewidth": 0,
            "ticks": ""
           }
          },
          "colorscale": {
           "diverging": [
            [
             0,
             "#8e0152"
            ],
            [
             0.1,
             "#c51b7d"
            ],
            [
             0.2,
             "#de77ae"
            ],
            [
             0.3,
             "#f1b6da"
            ],
            [
             0.4,
             "#fde0ef"
            ],
            [
             0.5,
             "#f7f7f7"
            ],
            [
             0.6,
             "#e6f5d0"
            ],
            [
             0.7,
             "#b8e186"
            ],
            [
             0.8,
             "#7fbc41"
            ],
            [
             0.9,
             "#4d9221"
            ],
            [
             1,
             "#276419"
            ]
           ],
           "sequential": [
            [
             0,
             "#0d0887"
            ],
            [
             0.1111111111111111,
             "#46039f"
            ],
            [
             0.2222222222222222,
             "#7201a8"
            ],
            [
             0.3333333333333333,
             "#9c179e"
            ],
            [
             0.4444444444444444,
             "#bd3786"
            ],
            [
             0.5555555555555556,
             "#d8576b"
            ],
            [
             0.6666666666666666,
             "#ed7953"
            ],
            [
             0.7777777777777778,
             "#fb9f3a"
            ],
            [
             0.8888888888888888,
             "#fdca26"
            ],
            [
             1,
             "#f0f921"
            ]
           ],
           "sequentialminus": [
            [
             0,
             "#0d0887"
            ],
            [
             0.1111111111111111,
             "#46039f"
            ],
            [
             0.2222222222222222,
             "#7201a8"
            ],
            [
             0.3333333333333333,
             "#9c179e"
            ],
            [
             0.4444444444444444,
             "#bd3786"
            ],
            [
             0.5555555555555556,
             "#d8576b"
            ],
            [
             0.6666666666666666,
             "#ed7953"
            ],
            [
             0.7777777777777778,
             "#fb9f3a"
            ],
            [
             0.8888888888888888,
             "#fdca26"
            ],
            [
             1,
             "#f0f921"
            ]
           ]
          },
          "colorway": [
           "#636efa",
           "#EF553B",
           "#00cc96",
           "#ab63fa",
           "#FFA15A",
           "#19d3f3",
           "#FF6692",
           "#B6E880",
           "#FF97FF",
           "#FECB52"
          ],
          "font": {
           "color": "#2a3f5f"
          },
          "geo": {
           "bgcolor": "white",
           "lakecolor": "white",
           "landcolor": "#E5ECF6",
           "showlakes": true,
           "showland": true,
           "subunitcolor": "white"
          },
          "hoverlabel": {
           "align": "left"
          },
          "hovermode": "closest",
          "mapbox": {
           "style": "light"
          },
          "paper_bgcolor": "white",
          "plot_bgcolor": "#E5ECF6",
          "polar": {
           "angularaxis": {
            "gridcolor": "white",
            "linecolor": "white",
            "ticks": ""
           },
           "bgcolor": "#E5ECF6",
           "radialaxis": {
            "gridcolor": "white",
            "linecolor": "white",
            "ticks": ""
           }
          },
          "scene": {
           "xaxis": {
            "backgroundcolor": "#E5ECF6",
            "gridcolor": "white",
            "gridwidth": 2,
            "linecolor": "white",
            "showbackground": true,
            "ticks": "",
            "zerolinecolor": "white"
           },
           "yaxis": {
            "backgroundcolor": "#E5ECF6",
            "gridcolor": "white",
            "gridwidth": 2,
            "linecolor": "white",
            "showbackground": true,
            "ticks": "",
            "zerolinecolor": "white"
           },
           "zaxis": {
            "backgroundcolor": "#E5ECF6",
            "gridcolor": "white",
            "gridwidth": 2,
            "linecolor": "white",
            "showbackground": true,
            "ticks": "",
            "zerolinecolor": "white"
           }
          },
          "shapedefaults": {
           "line": {
            "color": "#2a3f5f"
           }
          },
          "ternary": {
           "aaxis": {
            "gridcolor": "white",
            "linecolor": "white",
            "ticks": ""
           },
           "baxis": {
            "gridcolor": "white",
            "linecolor": "white",
            "ticks": ""
           },
           "bgcolor": "#E5ECF6",
           "caxis": {
            "gridcolor": "white",
            "linecolor": "white",
            "ticks": ""
           }
          },
          "title": {
           "x": 0.05
          },
          "xaxis": {
           "automargin": true,
           "gridcolor": "white",
           "linecolor": "white",
           "ticks": "",
           "title": {
            "standoff": 15
           },
           "zerolinecolor": "white",
           "zerolinewidth": 2
          },
          "yaxis": {
           "automargin": true,
           "gridcolor": "white",
           "linecolor": "white",
           "ticks": "",
           "title": {
            "standoff": 15
           },
           "zerolinecolor": "white",
           "zerolinewidth": 2
          }
         }
        },
        "title": {
         "text": "CO2 Emissions per Capita Over Time"
        },
        "xaxis": {
         "anchor": "y",
         "domain": [
          0,
          1
         ],
         "title": {
          "text": "Year"
         }
        },
        "yaxis": {
         "anchor": "x",
         "domain": [
          0,
          1
         ],
         "title": {
          "text": "CO2 Emissions per Capita"
         }
        }
       }
      }
     },
     "metadata": {},
     "output_type": "display_data"
    },
    {
     "data": {
      "application/vnd.plotly.v1+json": {
       "config": {
        "plotlyServerURL": "https://plot.ly"
       },
       "data": [
        {
         "hovertemplate": "region=Africa<br>Year=%{x}<br>CO2 Emissions per Capita=%{y}<extra></extra>",
         "legendgroup": "Africa",
         "line": {
          "color": "#636efa",
          "dash": "solid"
         },
         "marker": {
          "symbol": "circle"
         },
         "mode": "lines",
         "name": "Africa",
         "orientation": "v",
         "showlegend": true,
         "type": "scatter",
         "x": {
          "bdata": "ygfLB8wHzQfOB88H0AfRB9IH0wfUB9UH1gfXB9gH2QfaB9sH3AfdB94H3wfgB+EH4gfjB+QH5QfmB+cH",
          "dtype": "i2"
         },
         "xaxis": "x",
         "y": {
          "bdata": "7FG4HoXroT8rhxbZzvejP3sUrkfheqQ/y6FFtvP9pD97FK5H4XqkP3sUrkfheqQ/nMQgsHJooT9YObTIdr6fP1g5tMh2vp8/+n5qvHSTmD956SYxCKycP7pJDAIrh5Y/+n5qvHSTmD9aZDvfT42XP1pkO99PjZc/+n5qvHSTmD/sUbgeheuhP8uhRbbz/aQ/2/l+arx0oz+amZmZmZmZP9nO91PjpZs//Knx0k1ioD/8qfHSTWKgP0w3iUFg5aA/Gy/dJAaBpT+6SQwCK4emPwrXo3A9Cqc/arx0kxgEpj8K16NwPQqnP7pJDAIrh6Y/",
          "dtype": "f8"
         },
         "yaxis": "y"
        },
        {
         "hovertemplate": "region=Asia<br>Year=%{x}<br>CO2 Emissions per Capita=%{y}<extra></extra>",
         "legendgroup": "Asia",
         "line": {
          "color": "#EF553B",
          "dash": "solid"
         },
         "marker": {
          "symbol": "circle"
         },
         "mode": "lines",
         "name": "Asia",
         "orientation": "v",
         "showlegend": true,
         "type": "scatter",
         "x": {
          "bdata": "ygfLB8wHzQfOB88H0AfRB9IH0wfUB9UH1gfXB9gH2QfaB9sH3AfdB94H3wfgB+EH4gfjB+QH5QfmB+cH",
          "dtype": "i2"
         },
         "xaxis": "x",
         "y": {
          "bdata": "MzMzMzMzsz9zaJHtfD+1P4PAyqFFtrM/kxgEVg4tsj/0/dR46SaxPylcj8L1KKw/ObTIdr6fqj+JQWDl0CKrP1TjpZvEILA/RIts5/upsT+JQWDl0CKrP4PAyqFFtrM/w/UoXI/CtT/6fmq8dJO4P1g5tMh2vr8/2/l+arx0wz+6SQwCK4fGP1K4HoXrUcg/Rrbz/dR4yT/NzMzMzMzMP/Cnxks3idE/WDm0yHa+zz+mm8QgsHLQP/LSTWIQWNE/5dAi2/l+0j/n+6nx0k3SPzVeukkMAtM/ppvEILBy0D+kcD0K16PQP1K4HoXrUdA/",
          "dtype": "f8"
         },
         "yaxis": "y"
        },
        {
         "hovertemplate": "region=Europe<br>Year=%{x}<br>CO2 Emissions per Capita=%{y}<extra></extra>",
         "legendgroup": "Europe",
         "line": {
          "color": "#00cc96",
          "dash": "solid"
         },
         "marker": {
          "symbol": "circle"
         },
         "mode": "lines",
         "name": "Europe",
         "orientation": "v",
         "showlegend": true,
         "type": "scatter",
         "x": {
          "bdata": "ygfLB8wHzQfOB88H0AfRB9IH0wfUB9UH1gfXB9gH2QfaB9sH3AfdB94H3wfgB+EH4gfjB+QH5QfmB+cH",
          "dtype": "i2"
         },
         "xaxis": "x",
         "y": {
          "bdata": "N4lBYOXQ4j9QjZduEoPkP4GVQ4ts5+M/ZDvfT42X3j8bL90kBoHhP5ZDi2zn++0/NV66SQwC6z8hsHJoke3sP7Kd76fGS+8/MzMzMzMz8T89CtejcD3yPwIrhxbZzvM/UI2XbhKD9D/jpZvEILD0PyuHFtnO9/U/mpmZmZmZ8z9I4XoUrkf1Pz0K16NwPfY/F9nO91Pj9T/LoUW28/32P2IQWDm0yPY/SOF6FK5H9z89CtejcD34Pylcj8L1KPo/dZMYBFYO+z/4U+Olm8T6Pz0K16NwPfo/okW28/3U/D9I4XoUrkf9P0jhehSuR/0/",
          "dtype": "f8"
         },
         "yaxis": "y"
        },
        {
         "hovertemplate": "region=North America<br>Year=%{x}<br>CO2 Emissions per Capita=%{y}<extra></extra>",
         "legendgroup": "North America",
         "line": {
          "color": "#ab63fa",
          "dash": "solid"
         },
         "marker": {
          "symbol": "circle"
         },
         "mode": "lines",
         "name": "North America",
         "orientation": "v",
         "showlegend": true,
         "type": "scatter",
         "x": {
          "bdata": "ygfLB8wHzQfOB88H0AfRB9IH0wfUB9UH1gfXB9gH2QfaB9sH3AfdB94H3wfgB+EH4gfjB+QH5QfmB+cH",
          "dtype": "i2"
         },
         "xaxis": "x",
         "y": {
          "bdata": "mpmZmZmZmT8ZBFYOLbK9P0w3iUFg5cA/arx0kxgExj+DwMqhRbbDPyuHFtnO98M/nu+nxks3yT8Sg8DKoUXGP+XQItv5fso/okW28/3UyD+uR+F6FK7HP1K4HoXrUcg/UrgehetRyD/+1HjpJjHIP65H4XoUrsc/9ihcj8L1yD+BlUOLbOfLPx1aZDvfT80/zczMzMzMzD/2KFyPwvXQP05iEFg5tNA//tR46SYx0D9CYOXQItvRP4/C9Shcj9I/gZVDi2zn0z8/NV66SQzSPzvfT42XbtI/L90kBoGV0z83iUFg5dDSPzEIrBxaZNM/",
          "dtype": "f8"
         },
         "yaxis": "y"
        },
        {
         "hovertemplate": "region=Oceania<br>Year=%{x}<br>CO2 Emissions per Capita=%{y}<extra></extra>",
         "legendgroup": "Oceania",
         "line": {
          "color": "#FFA15A",
          "dash": "solid"
         },
         "marker": {
          "symbol": "circle"
         },
         "mode": "lines",
         "name": "Oceania",
         "orientation": "v",
         "showlegend": true,
         "type": "scatter",
         "x": {
          "bdata": "ygfLB8wHzQfOB88H0AfRB9IH0wfUB9UH1gfXB9gH2QfaB9sH3AfdB94H3wfgB+EH4gfjB+QH5QfmB+cH",
          "dtype": "i2"
         },
         "xaxis": "x",
         "y": {
          "bdata": "N4lBYOXQHkB7FK5H4XoeQCGwcmiRbR9Aj8L1KFyPIECiRbbz/VQfQIGVQ4tsZyBAnu+nxku3IEBeukkMAqshQJZDi2zneyFAhetRuB4FIkDNzMzMzIwhQCcxCKwcGiJAJzEIrBzaIUDLoUW28z0hQCcxCKwcmiFAvHSTGAQWIEBQjZduEgMgQBKDwMqhRR9AJQaBlUNLIEDZzvdT46UfQLx0kxgEVh9A8KfGSzcJH0ArhxbZzvccQClcj8L1qB1ApHA9CtcjHUCmm8QgsHIdQPLSTWIQ2BpA4XoUrkfhGkCkcD0K16MYQJhuEoPAShdA",
          "dtype": "f8"
         },
         "yaxis": "y"
        },
        {
         "hovertemplate": "region=Other<br>Year=%{x}<br>CO2 Emissions per Capita=%{y}<extra></extra>",
         "legendgroup": "Other",
         "line": {
          "color": "#19d3f3",
          "dash": "solid"
         },
         "marker": {
          "symbol": "circle"
         },
         "mode": "lines",
         "name": "Other",
         "orientation": "v",
         "showlegend": true,
         "type": "scatter",
         "x": {
          "bdata": "ygfLB8wHzQfOB88H0AfRB9IH0wfUB9UH1gfXB9gH2QfaB9sH3AfdB94H3wfgB+EH4gfjB+QH5QfmB+cH",
          "dtype": "i2"
         },
         "xaxis": "x",
         "y": {
          "bdata": "2/l+arx02z8Sg8DKoUXeP6jGSzeJQeA/zczMzMzM4D+amZmZmZnhPyPb+X5qvOQ/9ihcj8L15D/+1HjpJjHoP+kmMQisHOo/AAAAAAAA7D/8qfHSTWLsP0a28/3UeO0/VOOlm8Qg8D/n+6nx0k3wP+xRuB6F6+0/ppvEILBy8D9GtvP91HjxP90kBoGVQ/M/XI/C9Shc7z+28/3UeOnuPzvfT42Xbu4/Di2yne+n7j9OYhBYObTwP8HKoUW28/E/AiuHFtnO8T8EVg4tsp3zP6rx0k1iEPA/tvP91Hjp8D9KDAIrhxbxP/yp8dJNYvA/",
          "dtype": "f8"
         },
         "yaxis": "y"
        },
        {
         "hovertemplate": "region=South America<br>Year=%{x}<br>CO2 Emissions per Capita=%{y}<extra></extra>",
         "legendgroup": "South America",
         "line": {
          "color": "#FF6692",
          "dash": "solid"
         },
         "marker": {
          "symbol": "circle"
         },
         "mode": "lines",
         "name": "South America",
         "orientation": "v",
         "showlegend": true,
         "type": "scatter",
         "x": {
          "bdata": "ygfLB8wHzQfOB88H0AfRB9IH0wfUB9UH1gfXB9gH2QfaB9sH3AfdB94H3wfgB+EH4gfjB+QH5QfmB+cH",
          "dtype": "i2"
         },
         "xaxis": "x",
         "y": {
          "bdata": "JzEIrBxa6D+F61G4HoXrP8dLN4lBYOk/WmQ730+N6z+kcD0K16PsPwAAAAAAAOw/ObTIdr6f5j9iEFg5tMjmP9v5fmq8dOc/001iEFg56D9U46WbxCDoP2iR7Xw/NeY/uB6F61G45j/dJAaBlUPnP/yp8dJNYug/xSCwcmiR6T8AAAAAAADsP8/3U+Olm+w/qvHSTWIQ7D+uR+F6FK7rP/hT46WbxOw/BoGVQ4ts7z/RItv5fmryP2q8dJMYBPQ/tvP91Hjp9D8rhxbZzvfzP6wcWmQ73/E/Rrbz/dR48z/Jdr6fGi/zP6AaL90kBvM/",
          "dtype": "f8"
         },
         "yaxis": "y"
        }
       ],
       "layout": {
        "legend": {
         "title": {
          "text": "region"
         },
         "tracegroupgap": 0
        },
        "template": {
         "data": {
          "bar": [
           {
            "error_x": {
             "color": "#2a3f5f"
            },
            "error_y": {
             "color": "#2a3f5f"
            },
            "marker": {
             "line": {
              "color": "#E5ECF6",
              "width": 0.5
             },
             "pattern": {
              "fillmode": "overlay",
              "size": 10,
              "solidity": 0.2
             }
            },
            "type": "bar"
           }
          ],
          "barpolar": [
           {
            "marker": {
             "line": {
              "color": "#E5ECF6",
              "width": 0.5
             },
             "pattern": {
              "fillmode": "overlay",
              "size": 10,
              "solidity": 0.2
             }
            },
            "type": "barpolar"
           }
          ],
          "carpet": [
           {
            "aaxis": {
             "endlinecolor": "#2a3f5f",
             "gridcolor": "white",
             "linecolor": "white",
             "minorgridcolor": "white",
             "startlinecolor": "#2a3f5f"
            },
            "baxis": {
             "endlinecolor": "#2a3f5f",
             "gridcolor": "white",
             "linecolor": "white",
             "minorgridcolor": "white",
             "startlinecolor": "#2a3f5f"
            },
            "type": "carpet"
           }
          ],
          "choropleth": [
           {
            "colorbar": {
             "outlinewidth": 0,
             "ticks": ""
            },
            "type": "choropleth"
           }
          ],
          "contour": [
           {
            "colorbar": {
             "outlinewidth": 0,
             "ticks": ""
            },
            "colorscale": [
             [
              0,
              "#0d0887"
             ],
             [
              0.1111111111111111,
              "#46039f"
             ],
             [
              0.2222222222222222,
              "#7201a8"
             ],
             [
              0.3333333333333333,
              "#9c179e"
             ],
             [
              0.4444444444444444,
              "#bd3786"
             ],
             [
              0.5555555555555556,
              "#d8576b"
             ],
             [
              0.6666666666666666,
              "#ed7953"
             ],
             [
              0.7777777777777778,
              "#fb9f3a"
             ],
             [
              0.8888888888888888,
              "#fdca26"
             ],
             [
              1,
              "#f0f921"
             ]
            ],
            "type": "contour"
           }
          ],
          "contourcarpet": [
           {
            "colorbar": {
             "outlinewidth": 0,
             "ticks": ""
            },
            "type": "contourcarpet"
           }
          ],
          "heatmap": [
           {
            "colorbar": {
             "outlinewidth": 0,
             "ticks": ""
            },
            "colorscale": [
             [
              0,
              "#0d0887"
             ],
             [
              0.1111111111111111,
              "#46039f"
             ],
             [
              0.2222222222222222,
              "#7201a8"
             ],
             [
              0.3333333333333333,
              "#9c179e"
             ],
             [
              0.4444444444444444,
              "#bd3786"
             ],
             [
              0.5555555555555556,
              "#d8576b"
             ],
             [
              0.6666666666666666,
              "#ed7953"
             ],
             [
              0.7777777777777778,
              "#fb9f3a"
             ],
             [
              0.8888888888888888,
              "#fdca26"
             ],
             [
              1,
              "#f0f921"
             ]
            ],
            "type": "heatmap"
           }
          ],
          "histogram": [
           {
            "marker": {
             "pattern": {
              "fillmode": "overlay",
              "size": 10,
              "solidity": 0.2
             }
            },
            "type": "histogram"
           }
          ],
          "histogram2d": [
           {
            "colorbar": {
             "outlinewidth": 0,
             "ticks": ""
            },
            "colorscale": [
             [
              0,
              "#0d0887"
             ],
             [
              0.1111111111111111,
              "#46039f"
             ],
             [
              0.2222222222222222,
              "#7201a8"
             ],
             [
              0.3333333333333333,
              "#9c179e"
             ],
             [
              0.4444444444444444,
              "#bd3786"
             ],
             [
              0.5555555555555556,
              "#d8576b"
             ],
             [
              0.6666666666666666,
              "#ed7953"
             ],
             [
              0.7777777777777778,
              "#fb9f3a"
             ],
             [
              0.8888888888888888,
              "#fdca26"
             ],
             [
              1,
              "#f0f921"
             ]
            ],
            "type": "histogram2d"
           }
          ],
          "histogram2dcontour": [
           {
            "colorbar": {
             "outlinewidth": 0,
             "ticks": ""
            },
            "colorscale": [
             [
              0,
              "#0d0887"
             ],
             [
              0.1111111111111111,
              "#46039f"
             ],
             [
              0.2222222222222222,
              "#7201a8"
             ],
             [
              0.3333333333333333,
              "#9c179e"
             ],
             [
              0.4444444444444444,
              "#bd3786"
             ],
             [
              0.5555555555555556,
              "#d8576b"
             ],
             [
              0.6666666666666666,
              "#ed7953"
             ],
             [
              0.7777777777777778,
              "#fb9f3a"
             ],
             [
              0.8888888888888888,
              "#fdca26"
             ],
             [
              1,
              "#f0f921"
             ]
            ],
            "type": "histogram2dcontour"
           }
          ],
          "mesh3d": [
           {
            "colorbar": {
             "outlinewidth": 0,
             "ticks": ""
            },
            "type": "mesh3d"
           }
          ],
          "parcoords": [
           {
            "line": {
             "colorbar": {
              "outlinewidth": 0,
              "ticks": ""
             }
            },
            "type": "parcoords"
           }
          ],
          "pie": [
           {
            "automargin": true,
            "type": "pie"
           }
          ],
          "scatter": [
           {
            "fillpattern": {
             "fillmode": "overlay",
             "size": 10,
             "solidity": 0.2
            },
            "type": "scatter"
           }
          ],
          "scatter3d": [
           {
            "line": {
             "colorbar": {
              "outlinewidth": 0,
              "ticks": ""
             }
            },
            "marker": {
             "colorbar": {
              "outlinewidth": 0,
              "ticks": ""
             }
            },
            "type": "scatter3d"
           }
          ],
          "scattercarpet": [
           {
            "marker": {
             "colorbar": {
              "outlinewidth": 0,
              "ticks": ""
             }
            },
            "type": "scattercarpet"
           }
          ],
          "scattergeo": [
           {
            "marker": {
             "colorbar": {
              "outlinewidth": 0,
              "ticks": ""
             }
            },
            "type": "scattergeo"
           }
          ],
          "scattergl": [
           {
            "marker": {
             "colorbar": {
              "outlinewidth": 0,
              "ticks": ""
             }
            },
            "type": "scattergl"
           }
          ],
          "scattermap": [
           {
            "marker": {
             "colorbar": {
              "outlinewidth": 0,
              "ticks": ""
             }
            },
            "type": "scattermap"
           }
          ],
          "scattermapbox": [
           {
            "marker": {
             "colorbar": {
              "outlinewidth": 0,
              "ticks": ""
             }
            },
            "type": "scattermapbox"
           }
          ],
          "scatterpolar": [
           {
            "marker": {
             "colorbar": {
              "outlinewidth": 0,
              "ticks": ""
             }
            },
            "type": "scatterpolar"
           }
          ],
          "scatterpolargl": [
           {
            "marker": {
             "colorbar": {
              "outlinewidth": 0,
              "ticks": ""
             }
            },
            "type": "scatterpolargl"
           }
          ],
          "scatterternary": [
           {
            "marker": {
             "colorbar": {
              "outlinewidth": 0,
              "ticks": ""
             }
            },
            "type": "scatterternary"
           }
          ],
          "surface": [
           {
            "colorbar": {
             "outlinewidth": 0,
             "ticks": ""
            },
            "colorscale": [
             [
              0,
              "#0d0887"
             ],
             [
              0.1111111111111111,
              "#46039f"
             ],
             [
              0.2222222222222222,
              "#7201a8"
             ],
             [
              0.3333333333333333,
              "#9c179e"
             ],
             [
              0.4444444444444444,
              "#bd3786"
             ],
             [
              0.5555555555555556,
              "#d8576b"
             ],
             [
              0.6666666666666666,
              "#ed7953"
             ],
             [
              0.7777777777777778,
              "#fb9f3a"
             ],
             [
              0.8888888888888888,
              "#fdca26"
             ],
             [
              1,
              "#f0f921"
             ]
            ],
            "type": "surface"
           }
          ],
          "table": [
           {
            "cells": {
             "fill": {
              "color": "#EBF0F8"
             },
             "line": {
              "color": "white"
             }
            },
            "header": {
             "fill": {
              "color": "#C8D4E3"
             },
             "line": {
              "color": "white"
             }
            },
            "type": "table"
           }
          ]
         },
         "layout": {
          "annotationdefaults": {
           "arrowcolor": "#2a3f5f",
           "arrowhead": 0,
           "arrowwidth": 1
          },
          "autotypenumbers": "strict",
          "coloraxis": {
           "colorbar": {
            "outlinewidth": 0,
            "ticks": ""
           }
          },
          "colorscale": {
           "diverging": [
            [
             0,
             "#8e0152"
            ],
            [
             0.1,
             "#c51b7d"
            ],
            [
             0.2,
             "#de77ae"
            ],
            [
             0.3,
             "#f1b6da"
            ],
            [
             0.4,
             "#fde0ef"
            ],
            [
             0.5,
             "#f7f7f7"
            ],
            [
             0.6,
             "#e6f5d0"
            ],
            [
             0.7,
             "#b8e186"
            ],
            [
             0.8,
             "#7fbc41"
            ],
            [
             0.9,
             "#4d9221"
            ],
            [
             1,
             "#276419"
            ]
           ],
           "sequential": [
            [
             0,
             "#0d0887"
            ],
            [
             0.1111111111111111,
             "#46039f"
            ],
            [
             0.2222222222222222,
             "#7201a8"
            ],
            [
             0.3333333333333333,
             "#9c179e"
            ],
            [
             0.4444444444444444,
             "#bd3786"
            ],
            [
             0.5555555555555556,
             "#d8576b"
            ],
            [
             0.6666666666666666,
             "#ed7953"
            ],
            [
             0.7777777777777778,
             "#fb9f3a"
            ],
            [
             0.8888888888888888,
             "#fdca26"
            ],
            [
             1,
             "#f0f921"
            ]
           ],
           "sequentialminus": [
            [
             0,
             "#0d0887"
            ],
            [
             0.1111111111111111,
             "#46039f"
            ],
            [
             0.2222222222222222,
             "#7201a8"
            ],
            [
             0.3333333333333333,
             "#9c179e"
            ],
            [
             0.4444444444444444,
             "#bd3786"
            ],
            [
             0.5555555555555556,
             "#d8576b"
            ],
            [
             0.6666666666666666,
             "#ed7953"
            ],
            [
             0.7777777777777778,
             "#fb9f3a"
            ],
            [
             0.8888888888888888,
             "#fdca26"
            ],
            [
             1,
             "#f0f921"
            ]
           ]
          },
          "colorway": [
           "#636efa",
           "#EF553B",
           "#00cc96",
           "#ab63fa",
           "#FFA15A",
           "#19d3f3",
           "#FF6692",
           "#B6E880",
           "#FF97FF",
           "#FECB52"
          ],
          "font": {
           "color": "#2a3f5f"
          },
          "geo": {
           "bgcolor": "white",
           "lakecolor": "white",
           "landcolor": "#E5ECF6",
           "showlakes": true,
           "showland": true,
           "subunitcolor": "white"
          },
          "hoverlabel": {
           "align": "left"
          },
          "hovermode": "closest",
          "mapbox": {
           "style": "light"
          },
          "paper_bgcolor": "white",
          "plot_bgcolor": "#E5ECF6",
          "polar": {
           "angularaxis": {
            "gridcolor": "white",
            "linecolor": "white",
            "ticks": ""
           },
           "bgcolor": "#E5ECF6",
           "radialaxis": {
            "gridcolor": "white",
            "linecolor": "white",
            "ticks": ""
           }
          },
          "scene": {
           "xaxis": {
            "backgroundcolor": "#E5ECF6",
            "gridcolor": "white",
            "gridwidth": 2,
            "linecolor": "white",
            "showbackground": true,
            "ticks": "",
            "zerolinecolor": "white"
           },
           "yaxis": {
            "backgroundcolor": "#E5ECF6",
            "gridcolor": "white",
            "gridwidth": 2,
            "linecolor": "white",
            "showbackground": true,
            "ticks": "",
            "zerolinecolor": "white"
           },
           "zaxis": {
            "backgroundcolor": "#E5ECF6",
            "gridcolor": "white",
            "gridwidth": 2,
            "linecolor": "white",
            "showbackground": true,
            "ticks": "",
            "zerolinecolor": "white"
           }
          },
          "shapedefaults": {
           "line": {
            "color": "#2a3f5f"
           }
          },
          "ternary": {
           "aaxis": {
            "gridcolor": "white",
            "linecolor": "white",
            "ticks": ""
           },
           "baxis": {
            "gridcolor": "white",
            "linecolor": "white",
            "ticks": ""
           },
           "bgcolor": "#E5ECF6",
           "caxis": {
            "gridcolor": "white",
            "linecolor": "white",
            "ticks": ""
           }
          },
          "title": {
           "x": 0.05
          },
          "xaxis": {
           "automargin": true,
           "gridcolor": "white",
           "linecolor": "white",
           "ticks": "",
           "title": {
            "standoff": 15
           },
           "zerolinecolor": "white",
           "zerolinewidth": 2
          },
          "yaxis": {
           "automargin": true,
           "gridcolor": "white",
           "linecolor": "white",
           "ticks": "",
           "title": {
            "standoff": 15
           },
           "zerolinecolor": "white",
           "zerolinewidth": 2
          }
         }
        },
        "title": {
         "text": "CO2 Emissions per Capita Over Time"
        },
        "xaxis": {
         "anchor": "y",
         "domain": [
          0,
          1
         ],
         "title": {
          "text": "Year"
         }
        },
        "yaxis": {
         "anchor": "x",
         "domain": [
          0,
          1
         ],
         "title": {
          "text": "CO2 Emissions per Capita"
         }
        }
       }
      }
     },
     "metadata": {},
     "output_type": "display_data"
    },
    {
     "data": {
      "application/vnd.plotly.v1+json": {
       "config": {
        "plotlyServerURL": "https://plot.ly"
       },
       "data": [
        {
         "hovertemplate": "region=Africa<br>Year=%{x}<br>CO2 Emissions per Capita=%{y}<extra></extra>",
         "legendgroup": "Africa",
         "line": {
          "color": "#636efa",
          "dash": "solid"
         },
         "marker": {
          "symbol": "circle"
         },
         "mode": "lines",
         "name": "Africa",
         "orientation": "v",
         "showlegend": true,
         "type": "scatter",
         "x": {
          "bdata": "ygfLB8wHzQfOB88H0AfRB9IH0wfUB9UH1gfXB9gH2QfaB9sH3AfdB94H3wfgB+EH4gfjB+QH5QfmB+cH",
          "dtype": "i2"
         },
         "xaxis": "x",
         "y": {
          "bdata": "WmQ7309NJUCNl24Sg0AmQIlBYOXQoiVAppvEILByJEB/arx0kxgkQN0kBoGVQyNA30+Nl24SJECcxCCwcqgjQFK4HoXrESNAWDm0yHa+I0BSuB6F69EjQOkmMQisHCNAlkOLbOf7IUCcxCCwcmgiQEJg5dAiWyNAf2q8dJNYIkDb+X5qvDQiQC/dJAaBlSFAcT0K16PwI0Atsp3vp8YgQPhT46WbRCVAO99PjZcuI0BMN4lBYCUiQGZmZmZmpiRAbef7qfESI0DjpZvEIPAlQF66SQwCqxxAGQRWDi2yH0B3vp8aL90fQP7UeOkmsSBA",
          "dtype": "f8"
         },
         "yaxis": "y"
        },
        {
         "hovertemplate": "region=Asia<br>Year=%{x}<br>CO2 Emissions per Capita=%{y}<extra></extra>",
         "legendgroup": "Asia",
         "line": {
          "color": "#EF553B",
          "dash": "solid"
         },
         "marker": {
          "symbol": "circle"
         },
         "mode": "lines",
         "name": "Asia",
         "orientation": "v",
         "showlegend": true,
         "type": "scatter",
         "x": {
          "bdata": "ygfLB8wHzQfOB88H0AfRB9IH0wfUB9UH1gfXB9gH2QfaB9sH3AfdB94H3wfgB+EH4gfjB+QH5QfmB+cH",
          "dtype": "i2"
         },
         "xaxis": "x",
         "y": {
          "bdata": "qvHSTWIwUEAX2c73UxtQQBSuR+F6RFBADi2yne8nU0CF61G4HsVPQNejcD0Kl01AjZduEoNAT0BMN4lBYOVQQAIrhxbZrk9AQmDl0CI7T0C4HoXrUZhOQOf7qfHSzUxA9ihcj8KlTkD+1HjpJpFIQClcj8L1mEVAwcqhRbaDREDufD81XnpFQAAAAAAAgEZAgZVDi2x3SEA730+Nl15EQLByaJHtjERAKVyPwvXIQkDJdr6fGs9AQJHtfD81fkJAmpmZmZlJQUA9CtejcA1CQNV46SYxSEJAarx0kxiEQkC28/3UeFlCQM/3U+Ola0NA",
          "dtype": "f8"
         },
         "yaxis": "y"
        },
        {
         "hovertemplate": "region=Europe<br>Year=%{x}<br>CO2 Emissions per Capita=%{y}<extra></extra>",
         "legendgroup": "Europe",
         "line": {
          "color": "#00cc96",
          "dash": "solid"
         },
         "marker": {
          "symbol": "circle"
         },
         "mode": "lines",
         "name": "Europe",
         "orientation": "v",
         "showlegend": true,
         "type": "scatter",
         "x": {
          "bdata": "ygfLB8wHzQfOB88H0AfRB9IH0wfUB9UH1gfXB9gH2QfaB9sH3AfdB94H3wfgB+EH4gfjB+QH5QfmB+cH",
          "dtype": "i2"
         },
         "xaxis": "x",
         "y": {
          "bdata": "jZduEoOgPEBU46WbxGA2QPp+arx0MzZAoBov3SRmNEB56SYxCAwyQG8Sg8DK4TJAhxbZzvfzM0AQWDm0yNY0QLTIdr6fWjZA4XoUrkchN0BEi2zn+8k5QPp+arx08zlAyXa+nxovOUB9PzVeuok3QJ7vp8ZL1zZAwcqhRbZTNUAdWmQ73w82QKAaL90kZjVAnu+nxkt3NED4U+OlmwQzQEw3iUFgpTFAnMQgsHJoMECcxCCwcigvQAIrhxbZDi9Anu+nxkt3L0AIrBxaZHsvQFyPwvUonClAWmQ7309NKkA1XrpJDMIoQEa28/3U+ChA",
          "dtype": "f8"
         },
         "yaxis": "y"
        },
        {
         "hovertemplate": "region=North America<br>Year=%{x}<br>CO2 Emissions per Capita=%{y}<extra></extra>",
         "legendgroup": "North America",
         "line": {
          "color": "#ab63fa",
          "dash": "solid"
         },
         "marker": {
          "symbol": "circle"
         },
         "mode": "lines",
         "name": "North America",
         "orientation": "v",
         "showlegend": true,
         "type": "scatter",
         "x": {
          "bdata": "ygfLB8wHzQfOB88H0AfRB9IH0wfUB9UH1gfXB9gH2QfaB9sH3AfdB94H3wfgB+EH4gfjB+QH5QfmB+cH",
          "dtype": "i2"
         },
         "xaxis": "x",
         "y": {
          "bdata": "2/l+arw0NEDufD81Xjo0QAwCK4cWuTRAzczMzMzMNEDdJAaBlcM0QIts5/up0TRAJzEIrBxaNUAOLbKd78c0QD81XrpJjDVAGQRWDi0yOECq8dJNYlA4QNnO91PjRTxA30+Nl25yP0D+1HjpJrFAQIcW2c73M0BA6SYxCKwcQEDNzMzMzPxAQFg5tMh23kBA/Knx0k1yQEDy0k1iEDhAQHNoke18f0BAVOOlm8TgP0CJQWDl0MI7QBKDwMqh5TtAeekmMQhsO0DXo3A9Cnc7QFpkO99PrTdAYOXQItt5OECF61G4HkU4QC/dJAaB1TZA",
          "dtype": "f8"
         },
         "yaxis": "y"
        },
        {
         "hovertemplate": "region=Oceania<br>Year=%{x}<br>CO2 Emissions per Capita=%{y}<extra></extra>",
         "legendgroup": "Oceania",
         "line": {
          "color": "#FFA15A",
          "dash": "solid"
         },
         "marker": {
          "symbol": "circle"
         },
         "mode": "lines",
         "name": "Oceania",
         "orientation": "v",
         "showlegend": true,
         "type": "scatter",
         "x": {
          "bdata": "ygfLB8wHzQfOB88H0AfRB9IH0wfUB9UH1gfXB9gH2QfaB9sH3AfdB94H3wfgB+EH4gfjB+QH5QfmB+cH",
          "dtype": "i2"
         },
         "xaxis": "x",
         "y": {
          "bdata": "KVyPwvVoMEDP91PjpdswQNEi2/l+CjFAVg4tsp1PMUDLoUW2890xQKrx0k1iMDJAJQaBlUNLMkCamZmZmXkyQMdLN4lBgDJAZmZmZmamMkCwcmiR7RwzQIGVQ4tsBzNArkfhehQOM0Cq8dJNYhAzQIts5/up8TJAqvHSTWKwMkB56SYxCEwyQNejcD0K9zFAZmZmZmbGMUAGgZVDiywxQL6fGi/dpDBApHA9CtfDMECR7Xw/Nd4wQM/3U+OluzBAJQaBlUOLMEA3iUFg5VAwQFCNl24SAy9A001iEFj5LUDXo3A9ClctQNv5fmq89CxA",
          "dtype": "f8"
         },
         "yaxis": "y"
        },
        {
         "hovertemplate": "region=Other<br>Year=%{x}<br>CO2 Emissions per Capita=%{y}<extra></extra>",
         "legendgroup": "Other",
         "line": {
          "color": "#19d3f3",
          "dash": "solid"
         },
         "marker": {
          "symbol": "circle"
         },
         "mode": "lines",
         "name": "Other",
         "orientation": "v",
         "showlegend": true,
         "type": "scatter",
         "x": {
          "bdata": "ygfLB8wHzQfOB88H0AfRB9IH0wfUB9UH1gfXB9gH2QfaB9sH3AfdB94H3wfgB+EH4gfjB+QH5QfmB+cH",
          "dtype": "i2"
         },
         "xaxis": "x",
         "y": {
          "bdata": "+n5qvHSTFEBzaJHtfD8UQAwCK4cWWRJAUI2XbhIDE0DHSzeJQeAXQNNNYhBYuRlA1XjpJjEIGEBSuB6F61EWQPT91HjpJhdAGQRWDi0yGUCkcD0K1yMYQFK4HoXrURlA46WbxCAwGEAAAAAAAAAZQOF6FK5HYRhAJQaBlUOLF0Cq8dJNYpAWQESLbOf7KRhAWDm0yHa+F0BMN4lBYGUYQFyPwvUo3BhAoBov3SQGF0DRItv5fmoXQLKd76fGyxZAAiuHFtnOFkAX2c73U2MWQBfZzvdT4xFAhetRuB4FEkAxCKwcWuQQQE5iEFg5NBJA",
          "dtype": "f8"
         },
         "yaxis": "y"
        },
        {
         "hovertemplate": "region=South America<br>Year=%{x}<br>CO2 Emissions per Capita=%{y}<extra></extra>",
         "legendgroup": "South America",
         "line": {
          "color": "#FF6692",
          "dash": "solid"
         },
         "marker": {
          "symbol": "circle"
         },
         "mode": "lines",
         "name": "South America",
         "orientation": "v",
         "showlegend": true,
         "type": "scatter",
         "x": {
          "bdata": "ygfLB8wHzQfOB88H0AfRB9IH0wfUB9UH1gfXB9gH2QfaB9sH3AfdB94H3wfgB+EH4gfjB+QH5QfmB+cH",
          "dtype": "i2"
         },
         "xaxis": "x",
         "y": {
          "bdata": "ZmZmZmbmFUB7FK5H4XoWQKwcWmQ73xRABoGVQ4tsFkB3vp8aL90WQC2yne+nxhdAsp3vp8ZLF0CBlUOLbOcUQDeJQWDl0BlAokW28/3UF0CuR+F6FK4VQNnO91PjJRZAXI/C9SjcFkASg8DKoUUWQHnpJjEILBZAXI/C9ShcFUBiEFg5tEgaQBSuR+F6FBdAYhBYObTIF0Dwp8ZLN4kaQN0kBoGVQxdAqMZLN4nBFUBCYOXQItsTQDMzMzMzMxJAx0s3iUHgEUBEi2zn+ykTQHWTGARWjhBAMzMzMzMzEUBg5dAi2/kRQDMzMzMzMxFA",
          "dtype": "f8"
         },
         "yaxis": "y"
        }
       ],
       "layout": {
        "legend": {
         "title": {
          "text": "region"
         },
         "tracegroupgap": 0
        },
        "template": {
         "data": {
          "bar": [
           {
            "error_x": {
             "color": "#2a3f5f"
            },
            "error_y": {
             "color": "#2a3f5f"
            },
            "marker": {
             "line": {
              "color": "#E5ECF6",
              "width": 0.5
             },
             "pattern": {
              "fillmode": "overlay",
              "size": 10,
              "solidity": 0.2
             }
            },
            "type": "bar"
           }
          ],
          "barpolar": [
           {
            "marker": {
             "line": {
              "color": "#E5ECF6",
              "width": 0.5
             },
             "pattern": {
              "fillmode": "overlay",
              "size": 10,
              "solidity": 0.2
             }
            },
            "type": "barpolar"
           }
          ],
          "carpet": [
           {
            "aaxis": {
             "endlinecolor": "#2a3f5f",
             "gridcolor": "white",
             "linecolor": "white",
             "minorgridcolor": "white",
             "startlinecolor": "#2a3f5f"
            },
            "baxis": {
             "endlinecolor": "#2a3f5f",
             "gridcolor": "white",
             "linecolor": "white",
             "minorgridcolor": "white",
             "startlinecolor": "#2a3f5f"
            },
            "type": "carpet"
           }
          ],
          "choropleth": [
           {
            "colorbar": {
             "outlinewidth": 0,
             "ticks": ""
            },
            "type": "choropleth"
           }
          ],
          "contour": [
           {
            "colorbar": {
             "outlinewidth": 0,
             "ticks": ""
            },
            "colorscale": [
             [
              0,
              "#0d0887"
             ],
             [
              0.1111111111111111,
              "#46039f"
             ],
             [
              0.2222222222222222,
              "#7201a8"
             ],
             [
              0.3333333333333333,
              "#9c179e"
             ],
             [
              0.4444444444444444,
              "#bd3786"
             ],
             [
              0.5555555555555556,
              "#d8576b"
             ],
             [
              0.6666666666666666,
              "#ed7953"
             ],
             [
              0.7777777777777778,
              "#fb9f3a"
             ],
             [
              0.8888888888888888,
              "#fdca26"
             ],
             [
              1,
              "#f0f921"
             ]
            ],
            "type": "contour"
           }
          ],
          "contourcarpet": [
           {
            "colorbar": {
             "outlinewidth": 0,
             "ticks": ""
            },
            "type": "contourcarpet"
           }
          ],
          "heatmap": [
           {
            "colorbar": {
             "outlinewidth": 0,
             "ticks": ""
            },
            "colorscale": [
             [
              0,
              "#0d0887"
             ],
             [
              0.1111111111111111,
              "#46039f"
             ],
             [
              0.2222222222222222,
              "#7201a8"
             ],
             [
              0.3333333333333333,
              "#9c179e"
             ],
             [
              0.4444444444444444,
              "#bd3786"
             ],
             [
              0.5555555555555556,
              "#d8576b"
             ],
             [
              0.6666666666666666,
              "#ed7953"
             ],
             [
              0.7777777777777778,
              "#fb9f3a"
             ],
             [
              0.8888888888888888,
              "#fdca26"
             ],
             [
              1,
              "#f0f921"
             ]
            ],
            "type": "heatmap"
           }
          ],
          "histogram": [
           {
            "marker": {
             "pattern": {
              "fillmode": "overlay",
              "size": 10,
              "solidity": 0.2
             }
            },
            "type": "histogram"
           }
          ],
          "histogram2d": [
           {
            "colorbar": {
             "outlinewidth": 0,
             "ticks": ""
            },
            "colorscale": [
             [
              0,
              "#0d0887"
             ],
             [
              0.1111111111111111,
              "#46039f"
             ],
             [
              0.2222222222222222,
              "#7201a8"
             ],
             [
              0.3333333333333333,
              "#9c179e"
             ],
             [
              0.4444444444444444,
              "#bd3786"
             ],
             [
              0.5555555555555556,
              "#d8576b"
             ],
             [
              0.6666666666666666,
              "#ed7953"
             ],
             [
              0.7777777777777778,
              "#fb9f3a"
             ],
             [
              0.8888888888888888,
              "#fdca26"
             ],
             [
              1,
              "#f0f921"
             ]
            ],
            "type": "histogram2d"
           }
          ],
          "histogram2dcontour": [
           {
            "colorbar": {
             "outlinewidth": 0,
             "ticks": ""
            },
            "colorscale": [
             [
              0,
              "#0d0887"
             ],
             [
              0.1111111111111111,
              "#46039f"
             ],
             [
              0.2222222222222222,
              "#7201a8"
             ],
             [
              0.3333333333333333,
              "#9c179e"
             ],
             [
              0.4444444444444444,
              "#bd3786"
             ],
             [
              0.5555555555555556,
              "#d8576b"
             ],
             [
              0.6666666666666666,
              "#ed7953"
             ],
             [
              0.7777777777777778,
              "#fb9f3a"
             ],
             [
              0.8888888888888888,
              "#fdca26"
             ],
             [
              1,
              "#f0f921"
             ]
            ],
            "type": "histogram2dcontour"
           }
          ],
          "mesh3d": [
           {
            "colorbar": {
             "outlinewidth": 0,
             "ticks": ""
            },
            "type": "mesh3d"
           }
          ],
          "parcoords": [
           {
            "line": {
             "colorbar": {
              "outlinewidth": 0,
              "ticks": ""
             }
            },
            "type": "parcoords"
           }
          ],
          "pie": [
           {
            "automargin": true,
            "type": "pie"
           }
          ],
          "scatter": [
           {
            "fillpattern": {
             "fillmode": "overlay",
             "size": 10,
             "solidity": 0.2
            },
            "type": "scatter"
           }
          ],
          "scatter3d": [
           {
            "line": {
             "colorbar": {
              "outlinewidth": 0,
              "ticks": ""
             }
            },
            "marker": {
             "colorbar": {
              "outlinewidth": 0,
              "ticks": ""
             }
            },
            "type": "scatter3d"
           }
          ],
          "scattercarpet": [
           {
            "marker": {
             "colorbar": {
              "outlinewidth": 0,
              "ticks": ""
             }
            },
            "type": "scattercarpet"
           }
          ],
          "scattergeo": [
           {
            "marker": {
             "colorbar": {
              "outlinewidth": 0,
              "ticks": ""
             }
            },
            "type": "scattergeo"
           }
          ],
          "scattergl": [
           {
            "marker": {
             "colorbar": {
              "outlinewidth": 0,
              "ticks": ""
             }
            },
            "type": "scattergl"
           }
          ],
          "scattermap": [
           {
            "marker": {
             "colorbar": {
              "outlinewidth": 0,
              "ticks": ""
             }
            },
            "type": "scattermap"
           }
          ],
          "scattermapbox": [
           {
            "marker": {
             "colorbar": {
              "outlinewidth": 0,
              "ticks": ""
             }
            },
            "type": "scattermapbox"
           }
          ],
          "scatterpolar": [
           {
            "marker": {
             "colorbar": {
              "outlinewidth": 0,
              "ticks": ""
             }
            },
            "type": "scatterpolar"
           }
          ],
          "scatterpolargl": [
           {
            "marker": {
             "colorbar": {
              "outlinewidth": 0,
              "ticks": ""
             }
            },
            "type": "scatterpolargl"
           }
          ],
          "scatterternary": [
           {
            "marker": {
             "colorbar": {
              "outlinewidth": 0,
              "ticks": ""
             }
            },
            "type": "scatterternary"
           }
          ],
          "surface": [
           {
            "colorbar": {
             "outlinewidth": 0,
             "ticks": ""
            },
            "colorscale": [
             [
              0,
              "#0d0887"
             ],
             [
              0.1111111111111111,
              "#46039f"
             ],
             [
              0.2222222222222222,
              "#7201a8"
             ],
             [
              0.3333333333333333,
              "#9c179e"
             ],
             [
              0.4444444444444444,
              "#bd3786"
             ],
             [
              0.5555555555555556,
              "#d8576b"
             ],
             [
              0.6666666666666666,
              "#ed7953"
             ],
             [
              0.7777777777777778,
              "#fb9f3a"
             ],
             [
              0.8888888888888888,
              "#fdca26"
             ],
             [
              1,
              "#f0f921"
             ]
            ],
            "type": "surface"
           }
          ],
          "table": [
           {
            "cells": {
             "fill": {
              "color": "#EBF0F8"
             },
             "line": {
              "color": "white"
             }
            },
            "header": {
             "fill": {
              "color": "#C8D4E3"
             },
             "line": {
              "color": "white"
             }
            },
            "type": "table"
           }
          ]
         },
         "layout": {
          "annotationdefaults": {
           "arrowcolor": "#2a3f5f",
           "arrowhead": 0,
           "arrowwidth": 1
          },
          "autotypenumbers": "strict",
          "coloraxis": {
           "colorbar": {
            "outlinewidth": 0,
            "ticks": ""
           }
          },
          "colorscale": {
           "diverging": [
            [
             0,
             "#8e0152"
            ],
            [
             0.1,
             "#c51b7d"
            ],
            [
             0.2,
             "#de77ae"
            ],
            [
             0.3,
             "#f1b6da"
            ],
            [
             0.4,
             "#fde0ef"
            ],
            [
             0.5,
             "#f7f7f7"
            ],
            [
             0.6,
             "#e6f5d0"
            ],
            [
             0.7,
             "#b8e186"
            ],
            [
             0.8,
             "#7fbc41"
            ],
            [
             0.9,
             "#4d9221"
            ],
            [
             1,
             "#276419"
            ]
           ],
           "sequential": [
            [
             0,
             "#0d0887"
            ],
            [
             0.1111111111111111,
             "#46039f"
            ],
            [
             0.2222222222222222,
             "#7201a8"
            ],
            [
             0.3333333333333333,
             "#9c179e"
            ],
            [
             0.4444444444444444,
             "#bd3786"
            ],
            [
             0.5555555555555556,
             "#d8576b"
            ],
            [
             0.6666666666666666,
             "#ed7953"
            ],
            [
             0.7777777777777778,
             "#fb9f3a"
            ],
            [
             0.8888888888888888,
             "#fdca26"
            ],
            [
             1,
             "#f0f921"
            ]
           ],
           "sequentialminus": [
            [
             0,
             "#0d0887"
            ],
            [
             0.1111111111111111,
             "#46039f"
            ],
            [
             0.2222222222222222,
             "#7201a8"
            ],
            [
             0.3333333333333333,
             "#9c179e"
            ],
            [
             0.4444444444444444,
             "#bd3786"
            ],
            [
             0.5555555555555556,
             "#d8576b"
            ],
            [
             0.6666666666666666,
             "#ed7953"
            ],
            [
             0.7777777777777778,
             "#fb9f3a"
            ],
            [
             0.8888888888888888,
             "#fdca26"
            ],
            [
             1,
             "#f0f921"
            ]
           ]
          },
          "colorway": [
           "#636efa",
           "#EF553B",
           "#00cc96",
           "#ab63fa",
           "#FFA15A",
           "#19d3f3",
           "#FF6692",
           "#B6E880",
           "#FF97FF",
           "#FECB52"
          ],
          "font": {
           "color": "#2a3f5f"
          },
          "geo": {
           "bgcolor": "white",
           "lakecolor": "white",
           "landcolor": "#E5ECF6",
           "showlakes": true,
           "showland": true,
           "subunitcolor": "white"
          },
          "hoverlabel": {
           "align": "left"
          },
          "hovermode": "closest",
          "mapbox": {
           "style": "light"
          },
          "paper_bgcolor": "white",
          "plot_bgcolor": "#E5ECF6",
          "polar": {
           "angularaxis": {
            "gridcolor": "white",
            "linecolor": "white",
            "ticks": ""
           },
           "bgcolor": "#E5ECF6",
           "radialaxis": {
            "gridcolor": "white",
            "linecolor": "white",
            "ticks": ""
           }
          },
          "scene": {
           "xaxis": {
            "backgroundcolor": "#E5ECF6",
            "gridcolor": "white",
            "gridwidth": 2,
            "linecolor": "white",
            "showbackground": true,
            "ticks": "",
            "zerolinecolor": "white"
           },
           "yaxis": {
            "backgroundcolor": "#E5ECF6",
            "gridcolor": "white",
            "gridwidth": 2,
            "linecolor": "white",
            "showbackground": true,
            "ticks": "",
            "zerolinecolor": "white"
           },
           "zaxis": {
            "backgroundcolor": "#E5ECF6",
            "gridcolor": "white",
            "gridwidth": 2,
            "linecolor": "white",
            "showbackground": true,
            "ticks": "",
            "zerolinecolor": "white"
           }
          },
          "shapedefaults": {
           "line": {
            "color": "#2a3f5f"
           }
          },
          "ternary": {
           "aaxis": {
            "gridcolor": "white",
            "linecolor": "white",
            "ticks": ""
           },
           "baxis": {
            "gridcolor": "white",
            "linecolor": "white",
            "ticks": ""
           },
           "bgcolor": "#E5ECF6",
           "caxis": {
            "gridcolor": "white",
            "linecolor": "white",
            "ticks": ""
           }
          },
          "title": {
           "x": 0.05
          },
          "xaxis": {
           "automargin": true,
           "gridcolor": "white",
           "linecolor": "white",
           "ticks": "",
           "title": {
            "standoff": 15
           },
           "zerolinecolor": "white",
           "zerolinewidth": 2
          },
          "yaxis": {
           "automargin": true,
           "gridcolor": "white",
           "linecolor": "white",
           "ticks": "",
           "title": {
            "standoff": 15
           },
           "zerolinecolor": "white",
           "zerolinewidth": 2
          }
         }
        },
        "title": {
         "text": "CO2 Emissions per Capita Over Time"
        },
        "xaxis": {
         "anchor": "y",
         "domain": [
          0,
          1
         ],
         "title": {
          "text": "Year"
         }
        },
        "yaxis": {
         "anchor": "x",
         "domain": [
          0,
          1
         ],
         "title": {
          "text": "CO2 Emissions per Capita"
         }
        }
       }
      }
     },
     "metadata": {},
     "output_type": "display_data"
    }
   ],
   "source": [
    "# Track co2_per_capita by year, with a line chart\n",
    "for df_agg in df_regions:\n",
    "    fig = px.line(\n",
    "        df_agg,\n",
    "        x='year',\n",
    "        y='co2_per_capita',\n",
    "        title='CO2 Emissions per Capita Over Time',\n",
    "        labels={'co2_per_capita': 'CO2 Emissions per Capita', 'year': 'Year'},\n",
    "        color='region'\n",
    "    )\n",
    "    fig.show()"
   ]
  }
 ],
 "metadata": {
  "kernelspec": {
   "display_name": ".venv",
   "language": "python",
   "name": "python3"
  },
  "language_info": {
   "codemirror_mode": {
    "name": "ipython",
    "version": 3
   },
   "file_extension": ".py",
   "mimetype": "text/x-python",
   "name": "python",
   "nbconvert_exporter": "python",
   "pygments_lexer": "ipython3",
   "version": "3.13.5"
  }
 },
 "nbformat": 4,
 "nbformat_minor": 5
}
